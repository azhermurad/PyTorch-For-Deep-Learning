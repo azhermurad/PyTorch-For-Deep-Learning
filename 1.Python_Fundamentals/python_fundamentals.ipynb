{
 "cells": [
  {
   "cell_type": "markdown",
   "id": "abb25da3",
   "metadata": {},
   "source": [
    "## Python Fundamentals"
   ]
  },
  {
   "cell_type": "code",
   "execution_count": 1,
   "id": "2e0a0ca0",
   "metadata": {},
   "outputs": [],
   "source": [
    "import torch\n",
    "import pandas as pd\n",
    "import numpy as np\n",
    "import matplotlib.pyplot as plt "
   ]
  },
  {
   "cell_type": "code",
   "execution_count": 4,
   "id": "656f626f",
   "metadata": {},
   "outputs": [
    {
     "name": "stdout",
     "output_type": "stream",
     "text": [
      "2.6.0+cpu\n"
     ]
    }
   ],
   "source": [
    "# version of pytorch\n",
    "print(torch.__version__)\n",
    "# this is the torch version running on cpu"
   ]
  },
  {
   "cell_type": "markdown",
   "id": "67c94c95",
   "metadata": {},
   "source": [
    "## Create Tensors"
   ]
  },
  {
   "cell_type": "markdown",
   "id": "dbc3bbb3",
   "metadata": {},
   "source": [
    "#### Directly from data"
   ]
  },
  {
   "cell_type": "code",
   "execution_count": null,
   "id": "a89d98d4",
   "metadata": {},
   "outputs": [
    {
     "name": "stdout",
     "output_type": "stream",
     "text": [
      "<class 'torch.Tensor'>\n",
      "torch.int64\n",
      "tensor([[1, 2],\n",
      "        [3, 4]])\n"
     ]
    }
   ],
   "source": [
    "x = [[1,2],[3,4]]\n",
    "x_tensor = torch.tensor(x) \n",
    "print(type(x_tensor))\n",
    "print(x_tensor.dtype)\n",
    "print(x_tensor)"
   ]
  },
  {
   "cell_type": "code",
   "execution_count": 39,
   "id": "fe9fa4f3",
   "metadata": {},
   "outputs": [
    {
     "name": "stdout",
     "output_type": "stream",
     "text": [
      "tensor(3)\n",
      "torch.int64\n",
      "0\n",
      "3\n"
     ]
    }
   ],
   "source": [
    "scaler = torch.tensor(3)\n",
    "print(scaler)\n",
    "print(scaler.dtype)\n",
    "print(scaler.ndim)\n",
    "print(scaler.item())"
   ]
  },
  {
   "cell_type": "code",
   "execution_count": 44,
   "id": "2e31df83",
   "metadata": {},
   "outputs": [
    {
     "name": "stdout",
     "output_type": "stream",
     "text": [
      "tensor([1, 2])\n",
      "1\n",
      "<class 'torch.Tensor'>\n",
      "torch.int64\n",
      "torch.Size([2])\n"
     ]
    }
   ],
   "source": [
    "# vector \n",
    "vector = [1,2]\n",
    "vector = torch.tensor(vector)\n",
    "print(vector)\n",
    "print(vector.ndim)\n",
    "print(type(vector))\n",
    "print(vector.dtype)\n",
    "print(vector.shape)"
   ]
  },
  {
   "cell_type": "code",
   "execution_count": 48,
   "id": "c8f8ae50",
   "metadata": {},
   "outputs": [
    {
     "name": "stdout",
     "output_type": "stream",
     "text": [
      "tensor([[1, 2],\n",
      "        [3, 4]])\n",
      "2\n",
      "torch.Size([2, 2])\n"
     ]
    }
   ],
   "source": [
    "# matrix\n",
    "matrix = torch.tensor([\n",
    "    [1,2],\n",
    "    [3,4]\n",
    "])\n",
    "\n",
    "print(matrix)\n",
    "print(matrix.ndim)\n",
    "print(matrix.shape)"
   ]
  },
  {
   "cell_type": "code",
   "execution_count": 58,
   "id": "ba5f5238",
   "metadata": {},
   "outputs": [
    {
     "name": "stdout",
     "output_type": "stream",
     "text": [
      "tensor([[[1, 2],\n",
      "         [2, 4],\n",
      "         [5, 6]]])\n",
      "3\n",
      "torch.Size([1, 3, 2])\n",
      "[[[1, 2], [2, 4], [5, 6]]]\n"
     ]
    }
   ],
   "source": [
    "# Tensor\n",
    "tensor = torch.tensor([\n",
    "    [\n",
    "        [1,2],\n",
    "        [2,4],\n",
    "        [5,6]\n",
    "    ]\n",
    "])\n",
    "\n",
    "print(tensor)\n",
    "print(tensor.ndim)\n",
    "print(tensor.shape)\n",
    "print(tensor.tolist())"
   ]
  },
  {
   "cell_type": "markdown",
   "id": "6e38e4fd",
   "metadata": {},
   "source": [
    "#### From A Numpy Array"
   ]
  },
  {
   "cell_type": "code",
   "execution_count": 25,
   "id": "3242e9b3",
   "metadata": {},
   "outputs": [
    {
     "name": "stdout",
     "output_type": "stream",
     "text": [
      "Numpy Array Type: <class 'numpy.ndarray'>\n",
      "Tensor Array Type: <class 'torch.Tensor'>\n",
      "Tensor tensor([[1, 2],\n",
      "        [3, 4]])\n"
     ]
    }
   ],
   "source": [
    "np_data = np.array(x)\n",
    "print(\"Numpy Array Type:\",type(np_data))\n",
    "np_tensor = torch.from_numpy(np_data)\n",
    "print(\"Tensor Array Type:\", type(np_tensor))\n",
    "print(\"Tensor\",np_tensor)\n"
   ]
  },
  {
   "cell_type": "markdown",
   "id": "2b0406eb",
   "metadata": {},
   "source": [
    "#### Random tensor"
   ]
  },
  {
   "cell_type": "code",
   "execution_count": 81,
   "id": "5a33ed03",
   "metadata": {},
   "outputs": [
    {
     "name": "stdout",
     "output_type": "stream",
     "text": [
      "Random Tensor:\n",
      "\n",
      "tensor([[0.0918, 0.0809, 0.7433],\n",
      "        [0.2523, 0.5787, 0.1340]])\n"
     ]
    }
   ],
   "source": [
    "shape = (2,3)\n",
    "r_tensor = torch.rand(shape)  # generate number between zero and one\n",
    "print(f\"Random Tensor:\\n\\n{r_tensor}\")"
   ]
  },
  {
   "cell_type": "code",
   "execution_count": 83,
   "id": "34de6548",
   "metadata": {},
   "outputs": [
    {
     "data": {
      "text/plain": [
       "tensor([[[0.7884, 0.6507, 0.0583],\n",
       "         [0.9768, 0.3674, 0.5166],\n",
       "         [0.8108, 0.7516, 0.0702],\n",
       "         ...,\n",
       "         [0.4315, 0.5366, 0.7618],\n",
       "         [0.6263, 0.5910, 0.6895],\n",
       "         [0.3982, 0.2678, 0.2690]],\n",
       "\n",
       "        [[0.7867, 0.8922, 0.6026],\n",
       "         [0.2534, 0.4903, 0.6981],\n",
       "         [0.5049, 0.4392, 0.1940],\n",
       "         ...,\n",
       "         [0.0167, 0.1929, 0.7710],\n",
       "         [0.7703, 0.9094, 0.0585],\n",
       "         [0.8356, 0.7628, 0.2683]],\n",
       "\n",
       "        [[0.2019, 0.6981, 0.5451],\n",
       "         [0.4395, 0.5509, 0.4010],\n",
       "         [0.1824, 0.0383, 0.7465],\n",
       "         ...,\n",
       "         [0.9304, 0.0378, 0.3898],\n",
       "         [0.8733, 0.7219, 0.6616],\n",
       "         [0.4952, 0.5208, 0.8298]],\n",
       "\n",
       "        ...,\n",
       "\n",
       "        [[0.4788, 0.3103, 0.9184],\n",
       "         [0.5859, 0.5897, 0.0343],\n",
       "         [0.4692, 0.2437, 0.2586],\n",
       "         ...,\n",
       "         [0.7248, 0.9099, 0.4687],\n",
       "         [0.4375, 0.9610, 0.6429],\n",
       "         [0.2492, 0.8631, 0.3144]],\n",
       "\n",
       "        [[0.0755, 0.3083, 0.4320],\n",
       "         [0.8815, 0.1886, 0.3558],\n",
       "         [0.0504, 0.7643, 0.7677],\n",
       "         ...,\n",
       "         [0.5729, 0.4780, 0.5272],\n",
       "         [0.8796, 0.7398, 0.9283],\n",
       "         [0.5898, 0.7959, 0.9502]],\n",
       "\n",
       "        [[0.5500, 0.4996, 0.4605],\n",
       "         [0.7341, 0.2647, 0.1313],\n",
       "         [0.8065, 0.9707, 0.4939],\n",
       "         ...,\n",
       "         [0.6184, 0.4993, 0.7657],\n",
       "         [0.2624, 0.2717, 0.8077],\n",
       "         [0.0711, 0.0614, 0.4647]]])"
      ]
     },
     "execution_count": 83,
     "metadata": {},
     "output_type": "execute_result"
    }
   ],
   "source": [
    "random_image_size = torch.rand(size=(224,224,3))\n",
    "random_image_size"
   ]
  },
  {
   "cell_type": "markdown",
   "id": "fc58e69d",
   "metadata": {},
   "source": [
    "### Zero and Ones Tensor"
   ]
  },
  {
   "cell_type": "code",
   "execution_count": 92,
   "id": "65f27f7d",
   "metadata": {},
   "outputs": [
    {
     "data": {
      "text/plain": [
       "tensor([[1., 1., 1., 1.],\n",
       "        [1., 1., 1., 1.],\n",
       "        [1., 1., 1., 1.]])"
      ]
     },
     "execution_count": 92,
     "metadata": {},
     "output_type": "execute_result"
    }
   ],
   "source": [
    "ones = torch.ones(size=(3,4))\n",
    "ones"
   ]
  },
  {
   "cell_type": "code",
   "execution_count": 95,
   "id": "182e0e34",
   "metadata": {},
   "outputs": [
    {
     "name": "stdout",
     "output_type": "stream",
     "text": [
      "torch.Size([3, 3])\n",
      "2\n",
      "cpu\n"
     ]
    }
   ],
   "source": [
    "zeros = torch.zeros(size=(3,3))\n",
    "zeros\n",
    "print(zeros.shape)\n",
    "print(zeros.ndim)\n",
    "print(zeros.device)"
   ]
  },
  {
   "cell_type": "code",
   "execution_count": null,
   "id": "441dfc65",
   "metadata": {},
   "outputs": [
    {
     "data": {
      "text/plain": [
       "tensor([0, 1, 2, 3, 4])"
      ]
     },
     "execution_count": 96,
     "metadata": {},
     "output_type": "execute_result"
    }
   ],
   "source": []
  },
  {
   "cell_type": "code",
   "execution_count": null,
   "id": "0962cec7",
   "metadata": {},
   "outputs": [],
   "source": []
  }
 ],
 "metadata": {
  "kernelspec": {
   "display_name": "base",
   "language": "python",
   "name": "python3"
  },
  "language_info": {
   "codemirror_mode": {
    "name": "ipython",
    "version": 3
   },
   "file_extension": ".py",
   "mimetype": "text/x-python",
   "name": "python",
   "nbconvert_exporter": "python",
   "pygments_lexer": "ipython3",
   "version": "3.12.4"
  }
 },
 "nbformat": 4,
 "nbformat_minor": 5
}
