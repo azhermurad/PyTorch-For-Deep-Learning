{
 "cells": [
  {
   "cell_type": "markdown",
   "id": "abb25da3",
   "metadata": {},
   "source": [
    "## Python Fundamentals"
   ]
  },
  {
   "cell_type": "code",
   "execution_count": 1,
   "id": "2e0a0ca0",
   "metadata": {},
   "outputs": [],
   "source": [
    "import torch\n",
    "import pandas as pd\n",
    "import numpy as np\n",
    "import matplotlib.pyplot as plt "
   ]
  },
  {
   "cell_type": "code",
   "execution_count": 4,
   "id": "656f626f",
   "metadata": {},
   "outputs": [
    {
     "name": "stdout",
     "output_type": "stream",
     "text": [
      "2.6.0+cpu\n"
     ]
    }
   ],
   "source": [
    "# version of pytorch\n",
    "print(torch.__version__)\n",
    "# this is the torch version running on cpu"
   ]
  },
  {
   "cell_type": "markdown",
   "id": "67c94c95",
   "metadata": {},
   "source": [
    "## Create Tensors"
   ]
  },
  {
   "cell_type": "markdown",
   "id": "dbc3bbb3",
   "metadata": {},
   "source": [
    "#### Directly from data"
   ]
  },
  {
   "cell_type": "code",
   "execution_count": null,
   "id": "a89d98d4",
   "metadata": {},
   "outputs": [
    {
     "name": "stdout",
     "output_type": "stream",
     "text": [
      "<class 'torch.Tensor'>\n",
      "torch.int64\n",
      "tensor([[1, 2],\n",
      "        [3, 4]])\n"
     ]
    }
   ],
   "source": [
    "x = [[1,2],[3,4]]\n",
    "x_tensor = torch.tensor(x) \n",
    "print(type(x_tensor))\n",
    "print(x_tensor.dtype)\n",
    "print(x_tensor)"
   ]
  },
  {
   "cell_type": "code",
   "execution_count": 39,
   "id": "fe9fa4f3",
   "metadata": {},
   "outputs": [
    {
     "name": "stdout",
     "output_type": "stream",
     "text": [
      "tensor(3)\n",
      "torch.int64\n",
      "0\n",
      "3\n"
     ]
    }
   ],
   "source": [
    "scaler = torch.tensor(3)\n",
    "print(scaler)\n",
    "print(scaler.dtype)\n",
    "print(scaler.ndim)\n",
    "print(scaler.item())"
   ]
  },
  {
   "cell_type": "code",
   "execution_count": 44,
   "id": "2e31df83",
   "metadata": {},
   "outputs": [
    {
     "name": "stdout",
     "output_type": "stream",
     "text": [
      "tensor([1, 2])\n",
      "1\n",
      "<class 'torch.Tensor'>\n",
      "torch.int64\n",
      "torch.Size([2])\n"
     ]
    }
   ],
   "source": [
    "# vector \n",
    "vector = [1,2]\n",
    "vector = torch.tensor(vector)\n",
    "print(vector)\n",
    "print(vector.ndim)\n",
    "print(type(vector))\n",
    "print(vector.dtype)\n",
    "print(vector.shape)"
   ]
  },
  {
   "cell_type": "code",
   "execution_count": 48,
   "id": "c8f8ae50",
   "metadata": {},
   "outputs": [
    {
     "name": "stdout",
     "output_type": "stream",
     "text": [
      "tensor([[1, 2],\n",
      "        [3, 4]])\n",
      "2\n",
      "torch.Size([2, 2])\n"
     ]
    }
   ],
   "source": [
    "# matrix\n",
    "matrix = torch.tensor([\n",
    "    [1,2],\n",
    "    [3,4]\n",
    "])\n",
    "\n",
    "print(matrix)\n",
    "print(matrix.ndim)\n",
    "print(matrix.shape)"
   ]
  },
  {
   "cell_type": "code",
   "execution_count": 58,
   "id": "ba5f5238",
   "metadata": {},
   "outputs": [
    {
     "name": "stdout",
     "output_type": "stream",
     "text": [
      "tensor([[[1, 2],\n",
      "         [2, 4],\n",
      "         [5, 6]]])\n",
      "3\n",
      "torch.Size([1, 3, 2])\n",
      "[[[1, 2], [2, 4], [5, 6]]]\n"
     ]
    }
   ],
   "source": [
    "# Tensor\n",
    "tensor = torch.tensor([\n",
    "    [\n",
    "        [1,2],\n",
    "        [2,4],\n",
    "        [5,6]\n",
    "    ]\n",
    "])\n",
    "\n",
    "print(tensor)\n",
    "print(tensor.ndim)\n",
    "print(tensor.shape)\n",
    "print(tensor.tolist())"
   ]
  },
  {
   "cell_type": "markdown",
   "id": "6e38e4fd",
   "metadata": {},
   "source": [
    "#### From A Numpy Array"
   ]
  },
  {
   "cell_type": "code",
   "execution_count": 25,
   "id": "3242e9b3",
   "metadata": {},
   "outputs": [
    {
     "name": "stdout",
     "output_type": "stream",
     "text": [
      "Numpy Array Type: <class 'numpy.ndarray'>\n",
      "Tensor Array Type: <class 'torch.Tensor'>\n",
      "Tensor tensor([[1, 2],\n",
      "        [3, 4]])\n"
     ]
    }
   ],
   "source": [
    "np_data = np.array(x)\n",
    "print(\"Numpy Array Type:\",type(np_data))\n",
    "np_tensor = torch.from_numpy(np_data)\n",
    "print(\"Tensor Array Type:\", type(np_tensor))\n",
    "print(\"Tensor\",np_tensor)\n"
   ]
  },
  {
   "cell_type": "markdown",
   "id": "2b0406eb",
   "metadata": {},
   "source": [
    "#### Random tensor"
   ]
  },
  {
   "cell_type": "code",
   "execution_count": 81,
   "id": "5a33ed03",
   "metadata": {},
   "outputs": [
    {
     "name": "stdout",
     "output_type": "stream",
     "text": [
      "Random Tensor:\n",
      "\n",
      "tensor([[0.0918, 0.0809, 0.7433],\n",
      "        [0.2523, 0.5787, 0.1340]])\n"
     ]
    }
   ],
   "source": [
    "shape = (2,3)\n",
    "r_tensor = torch.rand(shape)  # generate number between zero and one\n",
    "print(f\"Random Tensor:\\n\\n{r_tensor}\")"
   ]
  },
  {
   "cell_type": "code",
   "execution_count": 83,
   "id": "34de6548",
   "metadata": {},
   "outputs": [
    {
     "data": {
      "text/plain": [
       "tensor([[[0.7884, 0.6507, 0.0583],\n",
       "         [0.9768, 0.3674, 0.5166],\n",
       "         [0.8108, 0.7516, 0.0702],\n",
       "         ...,\n",
       "         [0.4315, 0.5366, 0.7618],\n",
       "         [0.6263, 0.5910, 0.6895],\n",
       "         [0.3982, 0.2678, 0.2690]],\n",
       "\n",
       "        [[0.7867, 0.8922, 0.6026],\n",
       "         [0.2534, 0.4903, 0.6981],\n",
       "         [0.5049, 0.4392, 0.1940],\n",
       "         ...,\n",
       "         [0.0167, 0.1929, 0.7710],\n",
       "         [0.7703, 0.9094, 0.0585],\n",
       "         [0.8356, 0.7628, 0.2683]],\n",
       "\n",
       "        [[0.2019, 0.6981, 0.5451],\n",
       "         [0.4395, 0.5509, 0.4010],\n",
       "         [0.1824, 0.0383, 0.7465],\n",
       "         ...,\n",
       "         [0.9304, 0.0378, 0.3898],\n",
       "         [0.8733, 0.7219, 0.6616],\n",
       "         [0.4952, 0.5208, 0.8298]],\n",
       "\n",
       "        ...,\n",
       "\n",
       "        [[0.4788, 0.3103, 0.9184],\n",
       "         [0.5859, 0.5897, 0.0343],\n",
       "         [0.4692, 0.2437, 0.2586],\n",
       "         ...,\n",
       "         [0.7248, 0.9099, 0.4687],\n",
       "         [0.4375, 0.9610, 0.6429],\n",
       "         [0.2492, 0.8631, 0.3144]],\n",
       "\n",
       "        [[0.0755, 0.3083, 0.4320],\n",
       "         [0.8815, 0.1886, 0.3558],\n",
       "         [0.0504, 0.7643, 0.7677],\n",
       "         ...,\n",
       "         [0.5729, 0.4780, 0.5272],\n",
       "         [0.8796, 0.7398, 0.9283],\n",
       "         [0.5898, 0.7959, 0.9502]],\n",
       "\n",
       "        [[0.5500, 0.4996, 0.4605],\n",
       "         [0.7341, 0.2647, 0.1313],\n",
       "         [0.8065, 0.9707, 0.4939],\n",
       "         ...,\n",
       "         [0.6184, 0.4993, 0.7657],\n",
       "         [0.2624, 0.2717, 0.8077],\n",
       "         [0.0711, 0.0614, 0.4647]]])"
      ]
     },
     "execution_count": 83,
     "metadata": {},
     "output_type": "execute_result"
    }
   ],
   "source": [
    "random_image_size = torch.rand(size=(224,224,3))\n",
    "random_image_size"
   ]
  },
  {
   "cell_type": "markdown",
   "id": "fc58e69d",
   "metadata": {},
   "source": [
    "### Zero and Ones Tensor"
   ]
  },
  {
   "cell_type": "code",
   "execution_count": 98,
   "id": "65f27f7d",
   "metadata": {},
   "outputs": [
    {
     "name": "stdout",
     "output_type": "stream",
     "text": [
      "torch.float32\n",
      "tensor([[1., 1., 1., 1.],\n",
      "        [1., 1., 1., 1.],\n",
      "        [1., 1., 1., 1.]])\n"
     ]
    }
   ],
   "source": [
    "ones = torch.ones(size=(3,4))\n",
    "print(ones.dtype)\n",
    "print(ones)"
   ]
  },
  {
   "cell_type": "code",
   "execution_count": 95,
   "id": "182e0e34",
   "metadata": {},
   "outputs": [
    {
     "name": "stdout",
     "output_type": "stream",
     "text": [
      "torch.Size([3, 3])\n",
      "2\n",
      "cpu\n"
     ]
    }
   ],
   "source": [
    "zeros = torch.zeros(size=(3,3))\n",
    "zeros\n",
    "print(zeros.shape)\n",
    "print(zeros.ndim)\n",
    "print(zeros.device)"
   ]
  },
  {
   "cell_type": "markdown",
   "id": "441dfc65",
   "metadata": {},
   "source": [
    "### Create a range tensors and Tensor-like"
   ]
  },
  {
   "cell_type": "code",
   "execution_count": 102,
   "id": "0962cec7",
   "metadata": {},
   "outputs": [
    {
     "name": "stdout",
     "output_type": "stream",
     "text": [
      "tensor([0, 1, 2, 3, 4, 5, 6, 7, 8, 9])\n",
      "tensor([ 5,  6,  7,  8,  9, 10, 11, 12, 13, 14, 15, 16, 17, 18, 19])\n",
      "tensor([10, 15, 20, 25, 30, 35, 40, 45, 50, 55, 60, 65, 70, 75, 80, 85, 90, 95])\n",
      "torch.Size([18])\n"
     ]
    }
   ],
   "source": [
    "x = torch.arange(10)\n",
    "y = torch.arange(5,20)\n",
    "z= torch.arange(10,100,5)\n",
    "print(x)\n",
    "print(y)\n",
    "print(z)\n",
    "print(z.shape)"
   ]
  },
  {
   "cell_type": "code",
   "execution_count": 106,
   "id": "85cf4120",
   "metadata": {},
   "outputs": [
    {
     "name": "stdout",
     "output_type": "stream",
     "text": [
      "tensor([[1, 1, 1, 1, 1],\n",
      "        [1, 1, 1, 1, 1]])\n"
     ]
    }
   ],
   "source": [
    "# tensor-like method \n",
    "a = torch.ones_like(x).reshape(2,5)\n",
    "print(a)"
   ]
  },
  {
   "cell_type": "code",
   "execution_count": 109,
   "id": "f21a9e55",
   "metadata": {},
   "outputs": [
    {
     "data": {
      "text/plain": [
       "torch.Size([2, 5])"
      ]
     },
     "execution_count": 109,
     "metadata": {},
     "output_type": "execute_result"
    }
   ],
   "source": [
    "a.shape"
   ]
  },
  {
   "cell_type": "code",
   "execution_count": null,
   "id": "973bed9a",
   "metadata": {},
   "outputs": [],
   "source": []
  },
  {
   "cell_type": "code",
   "execution_count": null,
   "id": "8e1d0cab",
   "metadata": {},
   "outputs": [
    {
     "name": "stdout",
     "output_type": "stream",
     "text": [
      "torch.float32\n",
      "cpu\n",
      "False\n"
     ]
    }
   ],
   "source": [
    "float_32_tensor = torch.tensor(\n",
    "    [3,2,4],\n",
    "    dtype=torch.float32, # type of the tensor \n",
    "    device=None, # tensor is store on which device\n",
    "    requires_grad=False # weather we have to find the gradients of this tensor or not \n",
    "    \n",
    "    )\n",
    "print(float_32_tensor.dtype)\n",
    "print(float_32_tensor.device)\n",
    "print(float_32_tensor.requires_grad)"
   ]
  },
  {
   "cell_type": "code",
   "execution_count": 127,
   "id": "ec28fbe6",
   "metadata": {},
   "outputs": [],
   "source": [
    "float_16_tensor = float_32_tensor.type(torch.float16)"
   ]
  },
  {
   "cell_type": "code",
   "execution_count": 131,
   "id": "503887c8",
   "metadata": {},
   "outputs": [
    {
     "data": {
      "text/plain": [
       "tensor([3., 2., 4.], dtype=torch.float16)"
      ]
     },
     "execution_count": 131,
     "metadata": {},
     "output_type": "execute_result"
    }
   ],
   "source": [
    "float_16_tensor"
   ]
  },
  {
   "cell_type": "code",
   "execution_count": 136,
   "id": "0ad4d9dc",
   "metadata": {},
   "outputs": [
    {
     "data": {
      "text/plain": [
       "torch.float32"
      ]
     },
     "execution_count": 136,
     "metadata": {},
     "output_type": "execute_result"
    }
   ],
   "source": [
    "float_32_tensor.dtype"
   ]
  },
  {
   "cell_type": "code",
   "execution_count": 141,
   "id": "70771c3e",
   "metadata": {},
   "outputs": [],
   "source": [
    "tensor_mul = float_16_tensor * float_32_tensor"
   ]
  },
  {
   "cell_type": "code",
   "execution_count": 142,
   "id": "e53d8819",
   "metadata": {},
   "outputs": [
    {
     "data": {
      "text/plain": [
       "torch.float32"
      ]
     },
     "execution_count": 142,
     "metadata": {},
     "output_type": "execute_result"
    }
   ],
   "source": [
    "tensor_mul.dtype"
   ]
  },
  {
   "cell_type": "markdown",
   "id": "1cd770a1",
   "metadata": {},
   "source": [
    "#### Attributes of a Tensor"
   ]
  },
  {
   "cell_type": "code",
   "execution_count": 147,
   "id": "33175c11",
   "metadata": {},
   "outputs": [
    {
     "name": "stdout",
     "output_type": "stream",
     "text": [
      "tensor([[0.9925, 0.1693, 0.4869, 0.1555],\n",
      "        [0.3278, 0.4544, 0.3958, 0.2284]])\n",
      "\n",
      "shape: torch.Size([2, 4])\n",
      "type: torch.float32\n",
      "device: cpu\n"
     ]
    }
   ],
   "source": [
    "random_tensor = torch.rand(2,4)\n",
    "print(random_tensor)\n",
    "\n",
    "print(f\"\\nshape: {random_tensor.shape}\")\n",
    "print(f\"type: {random_tensor.dtype}\")\n",
    "print(f\"device: {random_tensor.device}\")"
   ]
  },
  {
   "cell_type": "code",
   "execution_count": 153,
   "id": "4f6391a4",
   "metadata": {},
   "outputs": [
    {
     "data": {
      "text/plain": [
       "False"
      ]
     },
     "execution_count": 153,
     "metadata": {},
     "output_type": "execute_result"
    }
   ],
   "source": [
    "torch.accelerator.is_available()"
   ]
  },
  {
   "cell_type": "markdown",
   "id": "c0d382c8",
   "metadata": {},
   "source": [
    "#### Operations on Tensors\n",
    "Over 1200 tensor operations, including arithmetic, linear algebra, matrix manipulation (transposing, indexing, slicing), sampling and more are comprehensively described here.\n",
    "\n",
    "Each of these operations can be run on the CPU and Accelerator such as CUDA, MPS, MTIA, or XPU. If you’re using Colab, allocate an accelerator by going to Runtime > Change runtime type > GPU.\n",
    "\n",
    "By default, tensors are created on the CPU. We need to explicitly move tensors to the accelerator using .to method (after checking for accelerator availability). Keep in mind that copying large tensors across devices can be expensive in terms of time and memory!"
   ]
  },
  {
   "cell_type": "markdown",
   "id": "f59a7b2e",
   "metadata": {},
   "source": [
    "#### Manipulation Tensor"
   ]
  },
  {
   "cell_type": "code",
   "execution_count": 180,
   "id": "212d3333",
   "metadata": {},
   "outputs": [],
   "source": [
    "# Adding of tensor\n",
    "tensor_a = torch.arange(1,11)\n",
    "tensor_b = torch.arange(11,21)\n"
   ]
  },
  {
   "cell_type": "code",
   "execution_count": 181,
   "id": "7cb5091b",
   "metadata": {},
   "outputs": [
    {
     "data": {
      "text/plain": [
       "tensor([12, 14, 16, 18, 20, 22, 24, 26, 28, 30])"
      ]
     },
     "execution_count": 181,
     "metadata": {},
     "output_type": "execute_result"
    }
   ],
   "source": [
    "tensor_a + tensor_b"
   ]
  },
  {
   "cell_type": "code",
   "execution_count": 182,
   "id": "af610fa0",
   "metadata": {},
   "outputs": [
    {
     "data": {
      "text/plain": [
       "tensor([-10, -10, -10, -10, -10, -10, -10, -10, -10, -10])"
      ]
     },
     "execution_count": 182,
     "metadata": {},
     "output_type": "execute_result"
    }
   ],
   "source": [
    "# subtraction of tensor\n",
    "tensor_a - tensor_b"
   ]
  },
  {
   "cell_type": "code",
   "execution_count": 189,
   "id": "1c29c6d1",
   "metadata": {},
   "outputs": [
    {
     "data": {
      "text/plain": [
       "tensor([[ 11,  24,  39,  56,  75],\n",
       "        [ 96, 119, 144, 171, 200]])"
      ]
     },
     "execution_count": 189,
     "metadata": {},
     "output_type": "execute_result"
    }
   ],
   "source": [
    "# multiplication of tensor element wise\n",
    "\n",
    "tensor_a.reshape(2,5) * tensor_b.reshape(2,5)"
   ]
  },
  {
   "cell_type": "code",
   "execution_count": 226,
   "id": "d2d6bc21",
   "metadata": {},
   "outputs": [
    {
     "data": {
      "text/plain": [
       "tensor([ 3,  6,  9, 12, 15, 18, 21, 24, 27, 30])"
      ]
     },
     "execution_count": 226,
     "metadata": {},
     "output_type": "execute_result"
    }
   ],
   "source": [
    "torch.mul(tensor_a,3)"
   ]
  },
  {
   "cell_type": "code",
   "execution_count": 190,
   "id": "60c36860",
   "metadata": {},
   "outputs": [
    {
     "data": {
      "text/plain": [
       "(tensor([11, 12, 13, 14, 15, 16, 17, 18, 19, 20]),\n",
       " tensor([ 1,  2,  3,  4,  5,  6,  7,  8,  9, 10]))"
      ]
     },
     "execution_count": 190,
     "metadata": {},
     "output_type": "execute_result"
    }
   ],
   "source": [
    "tensor_b, tensor_a"
   ]
  },
  {
   "cell_type": "code",
   "execution_count": 195,
   "id": "37d0712e",
   "metadata": {},
   "outputs": [
    {
     "data": {
      "text/plain": [
       "tensor([-10, -10, -10, -10, -10, -10, -10, -10, -10, -10])"
      ]
     },
     "execution_count": 195,
     "metadata": {},
     "output_type": "execute_result"
    }
   ],
   "source": [
    "# tensor build in function/methods\n",
    "torch.subtract(tensor_a,tensor_b)"
   ]
  },
  {
   "cell_type": "code",
   "execution_count": 220,
   "id": "2129b4ff",
   "metadata": {},
   "outputs": [],
   "source": [
    "# multiplication of tensort \n",
    "# columns of first tensor = row of other tensor\n",
    "\n",
    "tensor_one = torch.arange(1,13).reshape(2,6)\n",
    "tensor_two = torch.arange(11,23).reshape(6,2)"
   ]
  },
  {
   "cell_type": "code",
   "execution_count": 221,
   "id": "9b045bee",
   "metadata": {},
   "outputs": [
    {
     "data": {
      "text/plain": [
       "tensor([[ 1,  2,  3,  4,  5,  6],\n",
       "        [ 7,  8,  9, 10, 11, 12]])"
      ]
     },
     "execution_count": 221,
     "metadata": {},
     "output_type": "execute_result"
    }
   ],
   "source": [
    "tensor_one  "
   ]
  },
  {
   "cell_type": "code",
   "execution_count": 222,
   "id": "fb580263",
   "metadata": {},
   "outputs": [
    {
     "data": {
      "text/plain": [
       "tensor([[11, 12],\n",
       "        [13, 14],\n",
       "        [15, 16],\n",
       "        [17, 18],\n",
       "        [19, 20],\n",
       "        [21, 22]])"
      ]
     },
     "execution_count": 222,
     "metadata": {},
     "output_type": "execute_result"
    }
   ],
   "source": [
    "tensor_two"
   ]
  },
  {
   "cell_type": "code",
   "execution_count": null,
   "id": "f33b1327",
   "metadata": {},
   "outputs": [],
   "source": []
  },
  {
   "cell_type": "code",
   "execution_count": 216,
   "id": "2e67d057",
   "metadata": {},
   "outputs": [
    {
     "data": {
      "text/plain": [
       "tensor([[ 371,  392],\n",
       "        [ 947, 1004]])"
      ]
     },
     "execution_count": 216,
     "metadata": {},
     "output_type": "execute_result"
    }
   ],
   "source": [
    "tensor_one @ tensor_two"
   ]
  },
  {
   "cell_type": "code",
   "execution_count": 227,
   "id": "6e6a258a",
   "metadata": {},
   "outputs": [
    {
     "data": {
      "text/plain": [
       "tensor([[ 371,  392],\n",
       "        [ 947, 1004]])"
      ]
     },
     "execution_count": 227,
     "metadata": {},
     "output_type": "execute_result"
    }
   ],
   "source": [
    "torch.matmul(tensor_one,tensor_two)"
   ]
  },
  {
   "cell_type": "code",
   "execution_count": 230,
   "id": "09aae020",
   "metadata": {},
   "outputs": [
    {
     "data": {
      "text/plain": [
       "torch.Size([6, 2])"
      ]
     },
     "execution_count": 230,
     "metadata": {},
     "output_type": "execute_result"
    }
   ],
   "source": [
    "tensor_two.shape"
   ]
  },
  {
   "cell_type": "markdown",
   "id": "68d1c214",
   "metadata": {},
   "source": [
    "#### Tensor Aggression (Min, Max, Mean, Sum)"
   ]
  },
  {
   "cell_type": "code",
   "execution_count": 232,
   "id": "d87cea92",
   "metadata": {},
   "outputs": [
    {
     "data": {
      "text/plain": [
       "tensor([30, 31, 32, 33, 34, 35, 36, 37, 38, 39])"
      ]
     },
     "execution_count": 232,
     "metadata": {},
     "output_type": "execute_result"
    }
   ],
   "source": [
    "tensor_a = torch.arange(30,40)\n",
    "tensor_a"
   ]
  },
  {
   "cell_type": "code",
   "execution_count": 238,
   "id": "8f1279ee",
   "metadata": {},
   "outputs": [
    {
     "name": "stdout",
     "output_type": "stream",
     "text": [
      "min: 30\n",
      "max: 39\n",
      "mean: 34.5\n",
      "min: 345\n"
     ]
    }
   ],
   "source": [
    "print(f\"min: {tensor_a.min()}\")\n",
    "print(f\"max: {tensor_a.max()}\")\n",
    "print(f\"mean: {tensor_a.mean(dtype=torch.float32)}\")\n",
    "print(f\"min: {tensor_a.sum()}\")"
   ]
  },
  {
   "cell_type": "code",
   "execution_count": 241,
   "id": "ba45402b",
   "metadata": {},
   "outputs": [
    {
     "name": "stdout",
     "output_type": "stream",
     "text": [
      "mean: 34.5\n"
     ]
    }
   ],
   "source": [
    "print(f\"mean: {tensor_a.type(torch.float32).mean()}\")"
   ]
  },
  {
   "cell_type": "code",
   "execution_count": 246,
   "id": "b8a47998",
   "metadata": {},
   "outputs": [
    {
     "name": "stdout",
     "output_type": "stream",
     "text": [
      "tensor([30, 31, 32, 33, 34, 35, 36, 37, 38, 39])\n",
      "tensor(9) tensor(9)\n",
      "argmin: 0 tensor(0)\n"
     ]
    }
   ],
   "source": [
    "# argmin and argmax\n",
    "print(tensor_a)\n",
    "print(tensor_a.argmax(),torch.argmax(tensor_a))\n",
    "\n",
    "print(f\"argmin: {tensor_a.argmin()}\",torch.argmin(tensor_a))\n"
   ]
  },
  {
   "cell_type": "code",
   "execution_count": null,
   "id": "cc4049e8",
   "metadata": {},
   "outputs": [],
   "source": []
  },
  {
   "cell_type": "markdown",
   "id": "e374bc8a",
   "metadata": {},
   "source": [
    "#### Reshaping,View, Stacking, Squeezing and unSqueezing "
   ]
  },
  {
   "cell_type": "code",
   "execution_count": 254,
   "id": "8fe98ed4",
   "metadata": {},
   "outputs": [
    {
     "name": "stdout",
     "output_type": "stream",
     "text": [
      "Before Reshape: tensor([1, 2, 3, 4, 5, 6, 7, 8, 9])\n",
      "\n",
      "Tensor_Price Reshape: tensor([[1, 2, 3],\n",
      "        [4, 5, 6],\n",
      "        [7, 8, 9]])\n"
     ]
    }
   ],
   "source": [
    "# reshape \n",
    "\n",
    "tensor_price = torch.arange(1,10)\n",
    "print(f\"Before Reshape: {tensor_price}\")\n",
    "\n",
    "tensor_price_reshape = tensor_price.reshape(3,3)\n",
    "\n",
    "print(f\"\\nTensor_Price Reshape: {tensor_price_reshape}\")"
   ]
  },
  {
   "cell_type": "code",
   "execution_count": 271,
   "id": "69a8c6d4",
   "metadata": {},
   "outputs": [],
   "source": [
    "# share same original memory not copy the tensor\n",
    "tensor_price_view = tensor_price.view(3,3)"
   ]
  },
  {
   "cell_type": "code",
   "execution_count": 265,
   "id": "06d08db3",
   "metadata": {},
   "outputs": [
    {
     "data": {
      "text/plain": [
       "tensor([[1, 2, 3],\n",
       "        [4, 5, 6],\n",
       "        [7, 8, 9]])"
      ]
     },
     "execution_count": 265,
     "metadata": {},
     "output_type": "execute_result"
    }
   ],
   "source": [
    "tensor_price_view"
   ]
  },
  {
   "cell_type": "code",
   "execution_count": 266,
   "id": "3d808387",
   "metadata": {},
   "outputs": [
    {
     "data": {
      "text/plain": [
       "tensor([1, 2, 3, 4, 5, 6, 7, 8, 9])"
      ]
     },
     "execution_count": 266,
     "metadata": {},
     "output_type": "execute_result"
    }
   ],
   "source": [
    "tensor_price"
   ]
  },
  {
   "cell_type": "code",
   "execution_count": 269,
   "id": "a872d228",
   "metadata": {},
   "outputs": [
    {
     "data": {
      "text/plain": [
       "tensor([[1000,    2,    3],\n",
       "        [   4,    5,    6],\n",
       "        [   7,    8,    9]])"
      ]
     },
     "execution_count": 269,
     "metadata": {},
     "output_type": "execute_result"
    }
   ],
   "source": [
    "tensor_price_view[0,0]=1000\n",
    "tensor_price_view"
   ]
  },
  {
   "cell_type": "code",
   "execution_count": 270,
   "id": "1194b970",
   "metadata": {},
   "outputs": [
    {
     "data": {
      "text/plain": [
       "tensor([1000,    2,    3,    4,    5,    6,    7,    8,    9])"
      ]
     },
     "execution_count": 270,
     "metadata": {},
     "output_type": "execute_result"
    }
   ],
   "source": [
    "tensor_price"
   ]
  },
  {
   "cell_type": "code",
   "execution_count": 276,
   "id": "23381a5b",
   "metadata": {},
   "outputs": [
    {
     "name": "stdout",
     "output_type": "stream",
     "text": [
      "tensor([[0.5682, 0.2757, 0.6397],\n",
      "        [0.2030, 0.8438, 0.3019]])\n",
      "2\n"
     ]
    }
   ],
   "source": [
    "# stacking in torch\n",
    "\n",
    "x_tensor = torch.rand(2,3)\n",
    "print(x_tensor)\n",
    "print(x_tensor.ndim)"
   ]
  },
  {
   "cell_type": "code",
   "execution_count": 291,
   "id": "bf939569",
   "metadata": {},
   "outputs": [
    {
     "data": {
      "text/plain": [
       "tensor([[[0.5682, 0.2757, 0.6397],\n",
       "         [0.2030, 0.8438, 0.3019]],\n",
       "\n",
       "        [[0.5682, 0.2757, 0.6397],\n",
       "         [0.2030, 0.8438, 0.3019]]])"
      ]
     },
     "execution_count": 291,
     "metadata": {},
     "output_type": "execute_result"
    }
   ],
   "source": [
    "# dim 0\n",
    "torch.stack((x_tensor,x_tensor))"
   ]
  },
  {
   "cell_type": "code",
   "execution_count": 280,
   "id": "3c50fccb",
   "metadata": {},
   "outputs": [
    {
     "data": {
      "text/plain": [
       "tensor([[[0.4266, 0.8334, 0.8515],\n",
       "         [0.5160, 0.0867, 0.9786]],\n",
       "\n",
       "        [[0.4266, 0.8334, 0.8515],\n",
       "         [0.5160, 0.0867, 0.9786]]])"
      ]
     },
     "execution_count": 280,
     "metadata": {},
     "output_type": "execute_result"
    }
   ],
   "source": [
    "torch.tensor([[[0.4266, 0.8334, 0.8515],\n",
    " [0.5160, 0.0867, 0.9786]],\n",
    "[[0.4266, 0.8334, 0.8515],\n",
    " [0.5160, 0.0867, 0.9786]]])"
   ]
  },
  {
   "cell_type": "code",
   "execution_count": 297,
   "id": "6bebabc5",
   "metadata": {},
   "outputs": [
    {
     "data": {
      "text/plain": [
       "tensor([[[0.5682, 0.2757, 0.6397],\n",
       "         [0.5682, 0.2757, 0.6397]],\n",
       "\n",
       "        [[0.2030, 0.8438, 0.3019],\n",
       "         [0.2030, 0.8438, 0.3019]]])"
      ]
     },
     "execution_count": 297,
     "metadata": {},
     "output_type": "execute_result"
    }
   ],
   "source": [
    "# dim 1\n",
    "torch.stack((x_tensor,x_tensor),dim=1)\n"
   ]
  },
  {
   "cell_type": "code",
   "execution_count": 299,
   "id": "fbcc6973",
   "metadata": {},
   "outputs": [
    {
     "data": {
      "text/plain": [
       "tensor([[[0.5682, 0.5682],\n",
       "         [0.2757, 0.2757],\n",
       "         [0.6397, 0.6397]],\n",
       "\n",
       "        [[0.2030, 0.2030],\n",
       "         [0.8438, 0.8438],\n",
       "         [0.3019, 0.3019]]])"
      ]
     },
     "execution_count": 299,
     "metadata": {},
     "output_type": "execute_result"
    }
   ],
   "source": [
    "torch.stack((x_tensor, x_tensor), dim=2)\n"
   ]
  },
  {
   "cell_type": "code",
   "execution_count": 302,
   "id": "de9c5462",
   "metadata": {},
   "outputs": [
    {
     "data": {
      "text/plain": [
       "torch.Size([2, 1, 2, 1, 2])"
      ]
     },
     "execution_count": 302,
     "metadata": {},
     "output_type": "execute_result"
    }
   ],
   "source": [
    "# squeeze of tensor\n",
    "x = torch.zeros(2, 1, 2, 1, 2)\n",
    "x.shape"
   ]
  },
  {
   "cell_type": "code",
   "execution_count": 304,
   "id": "4896f672",
   "metadata": {},
   "outputs": [
    {
     "data": {
      "text/plain": [
       "torch.Size([2, 2, 2])"
      ]
     },
     "execution_count": 304,
     "metadata": {},
     "output_type": "execute_result"
    }
   ],
   "source": [
    "x.squeeze().shape"
   ]
  },
  {
   "cell_type": "code",
   "execution_count": 307,
   "id": "a07537e1",
   "metadata": {},
   "outputs": [
    {
     "data": {
      "text/plain": [
       "torch.Size([2, 1, 2, 1, 2])"
      ]
     },
     "execution_count": 307,
     "metadata": {},
     "output_type": "execute_result"
    }
   ],
   "source": [
    "torch.squeeze(x,dim=0).shape"
   ]
  },
  {
   "cell_type": "code",
   "execution_count": 308,
   "id": "8149c286",
   "metadata": {},
   "outputs": [
    {
     "data": {
      "text/plain": [
       "torch.Size([2, 2, 1, 2])"
      ]
     },
     "execution_count": 308,
     "metadata": {},
     "output_type": "execute_result"
    }
   ],
   "source": [
    "torch.squeeze(x,dim=1).shape"
   ]
  },
  {
   "cell_type": "code",
   "execution_count": 313,
   "id": "946d98e2",
   "metadata": {},
   "outputs": [
    {
     "data": {
      "text/plain": [
       "tensor([30, 31, 32, 33, 34, 35, 36, 37, 38, 39])"
      ]
     },
     "execution_count": 313,
     "metadata": {},
     "output_type": "execute_result"
    }
   ],
   "source": [
    "tensor_a"
   ]
  },
  {
   "cell_type": "code",
   "execution_count": null,
   "id": "51e34e02",
   "metadata": {},
   "outputs": [
    {
     "data": {
      "text/plain": [
       "torch.Size([1, 10])"
      ]
     },
     "execution_count": 322,
     "metadata": {},
     "output_type": "execute_result"
    }
   ],
   "source": [
    "# unsqueeze of tensor \n",
    "torch.unsqueeze(tensor_a,dim=0)\n"
   ]
  },
  {
   "cell_type": "code",
   "execution_count": 320,
   "id": "1218e2b1",
   "metadata": {},
   "outputs": [
    {
     "data": {
      "text/plain": [
       "torch.Size([10, 1])"
      ]
     },
     "execution_count": 320,
     "metadata": {},
     "output_type": "execute_result"
    }
   ],
   "source": [
    "torch.unsqueeze(tensor_a,dim=1).shape"
   ]
  },
  {
   "cell_type": "code",
   "execution_count": 325,
   "id": "62fe4602",
   "metadata": {},
   "outputs": [
    {
     "name": "stdout",
     "output_type": "stream",
     "text": [
      "tensor([[[-0.7115,  1.7455,  0.0514, -0.1406,  0.5600],\n",
      "         [ 1.1266, -0.7419,  0.3607,  1.1387, -0.3704],\n",
      "         [-3.3526,  0.7225,  0.3599, -1.4835, -1.1324]],\n",
      "\n",
      "        [[-2.0386, -0.2258,  0.5201, -1.1259, -0.4892],\n",
      "         [ 0.1076, -0.1583,  1.7062,  1.8113,  0.7939],\n",
      "         [ 1.2995,  0.9758, -0.2459,  0.4449,  0.7122]]])\n"
     ]
    }
   ],
   "source": [
    "# permute in torch\n",
    "\n",
    "x = torch.randn(2, 3, 5)\n",
    "print(x)"
   ]
  },
  {
   "cell_type": "code",
   "execution_count": 326,
   "id": "ca7950b1",
   "metadata": {},
   "outputs": [
    {
     "data": {
      "text/plain": [
       "tensor([[[-0.7115,  1.1266, -3.3526],\n",
       "         [-2.0386,  0.1076,  1.2995]],\n",
       "\n",
       "        [[ 1.7455, -0.7419,  0.7225],\n",
       "         [-0.2258, -0.1583,  0.9758]],\n",
       "\n",
       "        [[ 0.0514,  0.3607,  0.3599],\n",
       "         [ 0.5201,  1.7062, -0.2459]],\n",
       "\n",
       "        [[-0.1406,  1.1387, -1.4835],\n",
       "         [-1.1259,  1.8113,  0.4449]],\n",
       "\n",
       "        [[ 0.5600, -0.3704, -1.1324],\n",
       "         [-0.4892,  0.7939,  0.7122]]])"
      ]
     },
     "execution_count": 326,
     "metadata": {},
     "output_type": "execute_result"
    }
   ],
   "source": [
    "torch.permute(x,(2,0,1))"
   ]
  },
  {
   "cell_type": "code",
   "execution_count": null,
   "id": "8a4074f7",
   "metadata": {},
   "outputs": [],
   "source": []
  }
 ],
 "metadata": {
  "kernelspec": {
   "display_name": "base",
   "language": "python",
   "name": "python3"
  },
  "language_info": {
   "codemirror_mode": {
    "name": "ipython",
    "version": 3
   },
   "file_extension": ".py",
   "mimetype": "text/x-python",
   "name": "python",
   "nbconvert_exporter": "python",
   "pygments_lexer": "ipython3",
   "version": "3.12.4"
  }
 },
 "nbformat": 4,
 "nbformat_minor": 5
}
