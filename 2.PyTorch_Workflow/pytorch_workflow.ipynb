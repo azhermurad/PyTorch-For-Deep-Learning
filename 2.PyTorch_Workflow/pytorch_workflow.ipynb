{
 "cells": [
  {
   "cell_type": "code",
   "execution_count": 1,
   "id": "372c2a0c",
   "metadata": {},
   "outputs": [],
   "source": [
    "import torch\n",
    "from torch import nn\n",
    "import matplotlib.pyplot as plt\n",
    "import numpy as np\n",
    "import pandas as pd"
   ]
  },
  {
   "cell_type": "code",
   "execution_count": 8,
   "id": "b3b2bf42",
   "metadata": {},
   "outputs": [],
   "source": [
    "# linear Regression\n",
    "\n",
    "# y = wx+b\n",
    "weight = 0.7\n",
    "bias = 0.3\n",
    "X = torch.arange(0,1,0.02).unsqueeze(dim=1)\n",
    "y = weight * X + bias"
   ]
  },
  {
   "cell_type": "code",
   "execution_count": 9,
   "id": "b45bcdbe",
   "metadata": {},
   "outputs": [
    {
     "data": {
      "text/plain": [
       "(tensor([[0.0000],\n",
       "         [0.0200],\n",
       "         [0.0400],\n",
       "         [0.0600],\n",
       "         [0.0800],\n",
       "         [0.1000],\n",
       "         [0.1200],\n",
       "         [0.1400],\n",
       "         [0.1600],\n",
       "         [0.1800]]),\n",
       " tensor([[0.3000],\n",
       "         [0.3140],\n",
       "         [0.3280],\n",
       "         [0.3420],\n",
       "         [0.3560],\n",
       "         [0.3700],\n",
       "         [0.3840],\n",
       "         [0.3980],\n",
       "         [0.4120],\n",
       "         [0.4260]]))"
      ]
     },
     "execution_count": 9,
     "metadata": {},
     "output_type": "execute_result"
    }
   ],
   "source": [
    "X[:10],y[:10]"
   ]
  },
  {
   "cell_type": "code",
   "execution_count": 14,
   "id": "ea9757b9",
   "metadata": {},
   "outputs": [
    {
     "data": {
      "text/plain": [
       "(50, 50)"
      ]
     },
     "execution_count": 14,
     "metadata": {},
     "output_type": "execute_result"
    }
   ],
   "source": [
    "len(X), len(y)"
   ]
  },
  {
   "cell_type": "code",
   "execution_count": 38,
   "id": "8599b8cc",
   "metadata": {},
   "outputs": [],
   "source": [
    "X_train,y_train = (X[:int(0.8 * len(X))], (y[:int(0.8 * len(y))]))\n",
    "X_test,y_test = (X[int(0.8 * len(X)):], (y[int(0.8 * len(y)):]))\n"
   ]
  },
  {
   "cell_type": "code",
   "execution_count": 39,
   "id": "a3d44d2f",
   "metadata": {},
   "outputs": [
    {
     "data": {
      "text/plain": [
       "(40, 40, 10, 10)"
      ]
     },
     "execution_count": 39,
     "metadata": {},
     "output_type": "execute_result"
    }
   ],
   "source": [
    "len(X_train), len(y_train),len(X_test), len(y_test)"
   ]
  },
  {
   "cell_type": "code",
   "execution_count": 350,
   "id": "b45c78cb",
   "metadata": {},
   "outputs": [],
   "source": [
    "def plot_predictions(\n",
    "    x_train=X_train,\n",
    "    y_train = y_train,\n",
    "    x_test = X_test,\n",
    "    y_test =y_test,\n",
    "    prediction = None\n",
    "):\n",
    "    plt.figure(figsize=(10,7))\n",
    "    plt.scatter(x_train,y_train,c=\"g\",s=10,label=\"Training Data\")\n",
    "    # test data\n",
    "    plt.scatter(x_test,y_test,c=\"b\",s=5,label=\"Test Data\")\n",
    "    # plt.scatter(x_train,y_train)\n",
    "    \n",
    "    if prediction is not None:\n",
    "        plt.scatter(x_test,prediction,c=\"y\",s=5,label=\"Prediction Data\")\n",
    "        \n",
    "    plt.legend()\n",
    "    plt.show()"
   ]
  },
  {
   "cell_type": "markdown",
   "id": "74ad320f",
   "metadata": {},
   "source": [
    "## Creating Models\n",
    "\n",
    "To define a neural network in PyTorch, we create a class that inherits from nn.Module. \n",
    "We define the layers of the network in the __init__ function and specify how data will pass through the network in the forward function. \n",
    "\n",
    "#### nn.Module \n",
    "\n",
    "nn.Module is base class for all neural network modules.\n",
    "Your models should also subclass this class.\n"
   ]
  },
  {
   "cell_type": "code",
   "execution_count": 351,
   "id": "43f6d13e",
   "metadata": {},
   "outputs": [],
   "source": [
    "class LinearRegression(nn.Module):\n",
    "    def __init__(self):\n",
    "        super().__init__()\n",
    "        self.weight = nn.Parameter(\n",
    "            torch.randn(1, requires_grad=True, dtype=torch.float)\n",
    "        )\n",
    "        self.bias = nn.Parameter(torch.randn(1, requires_grad=True, dtype=torch.float))\n",
    "\n",
    "    def forward(self, x):\n",
    "        return self.weight * x + self.bias"
   ]
  },
  {
   "cell_type": "code",
   "execution_count": 352,
   "id": "f59a433c",
   "metadata": {},
   "outputs": [
    {
     "name": "stdout",
     "output_type": "stream",
     "text": [
      "Using cpu device\n",
      "LinearRegression()\n"
     ]
    },
    {
     "data": {
      "text/plain": [
       "[Parameter containing:\n",
       " tensor([0.3367], requires_grad=True),\n",
       " Parameter containing:\n",
       " tensor([0.1288], requires_grad=True)]"
      ]
     },
     "execution_count": 352,
     "metadata": {},
     "output_type": "execute_result"
    }
   ],
   "source": [
    "device = \"cuda\" if torch.cuda.is_available() else \"cpu\"\n",
    "# device = torch.accelerator.current_accelerator().type if torch.accelerator.is_available() else \"cpu\"\n",
    "\n",
    "print(f\"Using {device} device\")\n",
    "\n",
    "torch.manual_seed(42)\n",
    "model_0 = LinearRegression().to(device)\n",
    "print(model_0)\n",
    "list(model_0.parameters())"
   ]
  },
  {
   "cell_type": "code",
   "execution_count": 353,
   "id": "cfdfccd1",
   "metadata": {},
   "outputs": [
    {
     "data": {
      "text/plain": [
       "OrderedDict([('weight', tensor([0.3367])), ('bias', tensor([0.1288]))])"
      ]
     },
     "execution_count": 353,
     "metadata": {},
     "output_type": "execute_result"
    }
   ],
   "source": [
    "model_0.state_dict()"
   ]
  },
  {
   "cell_type": "markdown",
   "id": "546c8b77",
   "metadata": {},
   "source": [
    "### Required_Grad \n",
    "Context-manager that disables gradient calculation.\n",
    "\n",
    "Disabling gradient calculation is useful for inference, when you are sure that you will not call Tensor.backward(). \n",
    "\n",
    "It will reduce memory consumption for computations that would otherwise have requires_grad=True.\n",
    "    \n",
    "    >>> x = torch.tensor([1.], requires_grad=True)\n",
    "\n",
    "    >>> with torch.no_grad():\n",
    "    ...     y = x * 2\n",
    "    >>> y.requires_grad\n",
    "    False\n",
    "\n",
    "\n",
    "    >>> @torch.no_grad()\n",
    "    ... def doubler(x):\n",
    "    ...     return x * 2\n",
    "    >>> z = doubler(x)\n",
    "    >>> z.requires_grad\n",
    "    False\n",
    "\n",
    "\n",
    "    >>> @torch.no_grad()\n",
    "    ... def tripler(x):\n",
    "    ...     return x * 3\n",
    "    >>> z = tripler(x)\n",
    "    >>> z.requires_grad\n",
    "    False\n",
    "\n",
    "\n",
    "    >>> # factory function exception\n",
    "    >>> with torch.no_grad():\n",
    "    ...     a = torch.nn.Parameter(torch.rand(10))\n",
    "    >>> a.requires_grad\n",
    "    True"
   ]
  },
  {
   "cell_type": "code",
   "execution_count": 354,
   "id": "424b9983",
   "metadata": {},
   "outputs": [
    {
     "name": "stdout",
     "output_type": "stream",
     "text": [
      "True\n",
      "True\n",
      "False\n"
     ]
    }
   ],
   "source": [
    "x = torch.tensor(4.9,requires_grad=True)\n",
    "print(x.requires_grad)\n",
    "\n",
    "with torch.inference_mode():\n",
    "    y = x+1\n",
    "print(x.requires_grad)\n",
    "print(y.requires_grad)"
   ]
  },
  {
   "cell_type": "code",
   "execution_count": 356,
   "id": "67f011f0",
   "metadata": {},
   "outputs": [
    {
     "data": {
      "image/png": "[encoded data removed]",
      "text/plain": [
       "<Figure size 1000x700 with 1 Axes>"
      ]
     },
     "metadata": {},
     "output_type": "display_data"
    }
   ],
   "source": [
    "# Compute prediction error\n",
    "# we know that we dont need the gradient descent to compute this time so we disable it by using no_grad\n",
    "with torch.inference_mode():\n",
    "    pred = model_0(X_test)\n",
    "    \n",
    "\n",
    "plot_predictions(prediction=pred)\n",
    "\n",
    "\n"
   ]
  },
  {
   "cell_type": "markdown",
   "id": "75601434",
   "metadata": {},
   "source": [
    "## To train a model"
   ]
  },
  {
   "cell_type": "code",
   "execution_count": null,
   "id": "6a32c185",
   "metadata": {},
   "outputs": [],
   "source": [
    "# Optimizing the Model Paramet ers\n",
    "\n",
    "# to train a model we need a loss function and optimizer\n",
    "# loss function: loss function or cost function is used to measure how wrong our model predict the data\n",
    "# optimizers are used to update the parameters of the model using gradient decenct to make them generalize for the data\n",
    "\n",
    "# loss function\n",
    "loss_fun = nn.L1Loss()\n",
    "\n",
    "# Optimizer  Stochatic Gradient Descent \n",
    "optimizer  = torch.optim.SGD(model_0.parameters(),lr=0.01)\n"
   ]
  },
  {
   "cell_type": "markdown",
   "id": "ae830b9b",
   "metadata": {},
   "source": [
    "In PyTorch, optimizer.zero_grad() is a crucial method used within the training loop of a neural network. Its purpose is to reset the gradients of all parameters that the optimizer is tracking to None. "
   ]
  },
  {
   "cell_type": "markdown",
   "id": "a0233e7a",
   "metadata": {},
   "source": []
  },
  {
   "cell_type": "code",
   "execution_count": 430,
   "id": "493781ae",
   "metadata": {},
   "outputs": [
    {
     "name": "stdout",
     "output_type": "stream",
     "text": [
      "Loss: 0.005703836679458618\n",
      "Epoch: 0 | Loss: 0.005703836679458618 | Test Loss: 0.03475162386894226\n",
      "OrderedDict({'weight': tensor([0.5860]), 'bias': tensor([0.4026])}) \n",
      "\n",
      "\n",
      "Loss: 0.005701327230781317\n",
      "Loss: 0.005704564042389393\n",
      "Loss: 0.005705344490706921\n",
      "Loss: 0.0057028294540941715\n",
      "Loss: 0.005700337700545788\n",
      "Loss: 0.005697816610336304\n",
      "Loss: 0.00569533696398139\n",
      "Loss: 0.005692821927368641\n",
      "Loss: 0.0056903185322880745\n",
      "Loss: 0.005693167448043823\n",
      "Epoch: 10 | Loss: 0.005693167448043823 | Test Loss: 0.03452882915735245\n",
      "OrderedDict({'weight': tensor([0.5861]), 'bias': tensor([0.4022])}) \n",
      "\n",
      "\n",
      "Loss: 0.005694323685020208\n",
      "Loss: 0.005691826343536377\n",
      "Loss: 0.0056893168948590755\n",
      "Loss: 0.005686819553375244\n",
      "Loss: 0.005684304051101208\n",
      "Loss: 0.005681824870407581\n",
      "Loss: 0.005679321475327015\n",
      "Loss: 0.005681776907294989\n",
      "Loss: 0.005683320574462414\n",
      "Loss: 0.0056808115914464\n",
      "Epoch: 20 | Loss: 0.0056808115914464 | Test Loss: 0.034590959548950195\n",
      "OrderedDict({'weight': tensor([0.5864]), 'bias': tensor([0.4020])}) \n",
      "\n",
      "\n",
      "Loss: 0.005678325891494751\n",
      "Loss: 0.005675834603607655\n",
      "Loss: 0.005673331208527088\n",
      "Loss: 0.005670815706253052\n",
      "Loss: 0.00566830625757575\n",
      "Loss: 0.005670398473739624\n",
      "Loss: 0.005672323517501354\n",
      "Loss: 0.00566981453448534\n",
      "Loss: 0.005667311139404774\n",
      "Loss: 0.00566481938585639\n",
      "Epoch: 30 | Loss: 0.00566481938585639 | Test Loss: 0.03465308994054794\n",
      "OrderedDict({'weight': tensor([0.5868]), 'bias': tensor([0.4018])}) \n",
      "\n",
      "\n",
      "Loss: 0.005662315990775824\n",
      "Loss: 0.005659812595695257\n",
      "Loss: 0.005657315254211426\n",
      "Loss: 0.005658996291458607\n",
      "Loss: 0.005661302711814642\n",
      "Loss: 0.0056588114239275455\n",
      "Loss: 0.0056562782265245914\n",
      "Loss: 0.005653816275298595\n",
      "Loss: 0.005651307292282581\n",
      "Loss: 0.005648821592330933\n",
      "Epoch: 40 | Loss: 0.005648821592330933 | Test Loss: 0.03471522405743599\n",
      "OrderedDict({'weight': tensor([0.5871]), 'bias': tensor([0.4016])}) \n",
      "\n",
      "\n",
      "Loss: 0.005646330304443836\n",
      "Loss: 0.005647599697113037\n",
      "Loss: 0.005650311708450317\n",
      "Loss: 0.005647814366966486\n",
      "Loss: 0.00564531097188592\n",
      "Loss: 0.005642819218337536\n",
      "Loss: 0.005640310235321522\n",
      "Loss: 0.005637806840240955\n",
      "Loss: 0.005635315086692572\n",
      "Loss: 0.0056362031027674675\n",
      "Epoch: 50 | Loss: 0.0056362031027674675 | Test Loss: 0.03449244052171707\n",
      "OrderedDict({'weight': tensor([0.5872]), 'bias': tensor([0.4012])}) \n",
      "\n",
      "\n",
      "Loss: 0.005639314651489258\n",
      "Loss: 0.005636817310005426\n",
      "Loss: 0.005634307861328125\n",
      "Loss: 0.005631798412650824\n",
      "Loss: 0.005629301071166992\n",
      "Loss: 0.005626773927360773\n",
      "Loss: 0.005624311976134777\n",
      "Loss: 0.005624830722808838\n",
      "Loss: 0.005628305487334728\n",
      "Loss: 0.005625814199447632\n",
      "Epoch: 60 | Loss: 0.005625814199447632 | Test Loss: 0.03455455228686333\n",
      "OrderedDict({'weight': tensor([0.5875]), 'bias': tensor([0.4010])}) \n",
      "\n",
      "\n",
      "Loss: 0.005623298697173595\n",
      "Loss: 0.005620801355689764\n",
      "Loss: 0.00561832170933485\n",
      "Loss: 0.005615794565528631\n",
      "Loss: 0.0056133149191737175\n",
      "Loss: 0.005613428540527821\n",
      "Loss: 0.005617290735244751\n",
      "Loss: 0.005614811088889837\n",
      "Loss: 0.005612301640212536\n",
      "Loss: 0.0056097982451319695\n",
      "Epoch: 70 | Loss: 0.0056097982451319695 | Test Loss: 0.03461669757962227\n",
      "OrderedDict({'weight': tensor([0.5879]), 'bias': tensor([0.4008])}) \n",
      "\n",
      "\n",
      "Loss: 0.005607313010841608\n",
      "Loss: 0.005604797508567572\n",
      "Loss: 0.00560230016708374\n",
      "Loss: 0.005602025892585516\n",
      "Loss: 0.005606299731880426\n",
      "Loss: 0.005603802390396595\n",
      "Loss: 0.005601298995316029\n",
      "Loss: 0.005598789546638727\n",
      "Loss: 0.0055963099002838135\n",
      "Loss: 0.005593788810074329\n",
      "Epoch: 80 | Loss: 0.005593788810074329 | Test Loss: 0.034678809344768524\n",
      "OrderedDict({'weight': tensor([0.5882]), 'bias': tensor([0.4006])}) \n",
      "\n",
      "\n",
      "Loss: 0.005591297056525946\n",
      "Loss: 0.005590647459030151\n",
      "Loss: 0.005595290567725897\n",
      "Loss: 0.005592810921370983\n",
      "Loss: 0.005590283777564764\n",
      "Loss: 0.005587786436080933\n",
      "Loss: 0.005585300736129284\n",
      "Loss: 0.0055827973410487175\n",
      "Loss: 0.005580276250839233\n",
      "Loss: 0.005579245276749134\n",
      "Epoch: 90 | Loss: 0.005579245276749134 | Test Loss: 0.03445601463317871\n",
      "OrderedDict({'weight': tensor([0.5883]), 'bias': tensor([0.4002])}) \n",
      "\n",
      "\n",
      "Loss: 0.005584293510764837\n",
      "Loss: 0.005581802222877741\n",
      "Loss: 0.0055793048813939095\n",
      "Loss: 0.005576789379119873\n",
      "Loss: 0.005574292037636042\n",
      "Loss: 0.00557179469615221\n",
      "Loss: 0.005569279193878174\n",
      "Loss: 0.005567866377532482\n",
      "Loss: 0.005573296453803778\n"
     ]
    }
   ],
   "source": [
    "epochs = 100\n",
    "for epoch in range(epochs):\n",
    "    model_0.train() \n",
    "   \n",
    "    # forward pass\n",
    "    y_pred = model_0(X_test)\n",
    "    \n",
    "    # loss/error of model\n",
    "    loss = loss_fun(y_pred, y_test)\n",
    "    print(f\"Loss: {loss}\")\n",
    "     # Backpropagation\n",
    "    loss.backward()\n",
    "    optimizer.step()\n",
    "    \n",
    "    # this is important step\n",
    "    optimizer.zero_grad() \n",
    "     \n",
    "     \n",
    "    #  testing mode\n",
    "    \n",
    "    model_0.eval()\n",
    "    with torch.inference_mode():\n",
    "    # with torch.no_grad()\n",
    "        test_pred = model_0(X_test)\n",
    "        test_loss = loss_fun(test_pred,X_test) \n",
    "        \n",
    "        \n",
    "    if epoch % 10 == 0:\n",
    "        print(f\"Epoch: {epoch} | Loss: {loss} | Test Loss: {test_loss}\")\n",
    "        print(model_0.state_dict(),\"\\n\\n\")\n",
    "    \n",
    "    \n",
    "    \n",
    "    "
   ]
  },
  {
   "cell_type": "code",
   "execution_count": null,
   "id": "362e6822",
   "metadata": {},
   "outputs": [],
   "source": []
  },
  {
   "cell_type": "code",
   "execution_count": 431,
   "id": "43e6c279",
   "metadata": {},
   "outputs": [],
   "source": [
    "with torch.inference_mode():\n",
    "    # with torch.no_grad()\n",
    "    new_pred = model_0(X_test)\n",
    "    # test_loss = loss_fun(new_pred,X_test) \n",
    "        "
   ]
  },
  {
   "cell_type": "code",
   "execution_count": 432,
   "id": "6b879ea7",
   "metadata": {},
   "outputs": [
    {
     "data": {
      "text/plain": [
       "OrderedDict([('weight', tensor([0.5886])), ('bias', tensor([0.4000]))])"
      ]
     },
     "execution_count": 432,
     "metadata": {},
     "output_type": "execute_result"
    }
   ],
   "source": [
    "model_0.state_dict()"
   ]
  },
  {
   "cell_type": "code",
   "execution_count": 433,
   "id": "4423965a",
   "metadata": {},
   "outputs": [
    {
     "data": {
      "image/png": "[encoded data removed]",
      "text/plain": [
       "<Figure size 1000x700 with 1 Axes>"
      ]
     },
     "metadata": {},
     "output_type": "display_data"
    }
   ],
   "source": [
    "plot_predictions(prediction=new_pred)"
   ]
  },
  {
   "cell_type": "code",
   "execution_count": null,
   "id": "bd78ccd8",
   "metadata": {},
   "outputs": [],
   "source": []
  }
 ],
 "metadata": {
  "kernelspec": {
   "display_name": "base",
   "language": "python",
   "name": "python3"
  },
  "language_info": {
   "codemirror_mode": {
    "name": "ipython",
    "version": 3
   },
   "file_extension": ".py",
   "mimetype": "text/x-python",
   "name": "python",
   "nbconvert_exporter": "python",
   "pygments_lexer": "ipython3",
   "version": "3.12.4"
  }
 },
 "nbformat": 4,
 "nbformat_minor": 5
}
