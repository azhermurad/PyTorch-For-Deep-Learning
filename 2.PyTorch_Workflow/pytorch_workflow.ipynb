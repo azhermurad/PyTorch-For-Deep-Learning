{
 "cells": [
  {
   "cell_type": "code",
   "execution_count": 772,
   "id": "372c2a0c",
   "metadata": {},
   "outputs": [],
   "source": [
    "import torch\n",
    "from torch import nn\n",
    "import matplotlib.pyplot as plt\n",
    "import numpy as np\n",
    "import pandas as pd"
   ]
  },
  {
   "cell_type": "code",
   "execution_count": 773,
   "id": "b3b2bf42",
   "metadata": {},
   "outputs": [],
   "source": [
    "# linear Regression\n",
    "\n",
    "# y = wx+b\n",
    "weight = 0.7\n",
    "bias = 0.3\n",
    "X = torch.arange(0,1,0.02).unsqueeze(dim=1)\n",
    "y = weight * X + bias"
   ]
  },
  {
   "cell_type": "code",
   "execution_count": 774,
   "id": "b45bcdbe",
   "metadata": {},
   "outputs": [
    {
     "data": {
      "text/plain": [
       "(tensor([[0.0000],\n",
       "         [0.0200],\n",
       "         [0.0400],\n",
       "         [0.0600],\n",
       "         [0.0800],\n",
       "         [0.1000],\n",
       "         [0.1200],\n",
       "         [0.1400],\n",
       "         [0.1600],\n",
       "         [0.1800]]),\n",
       " tensor([[0.3000],\n",
       "         [0.3140],\n",
       "         [0.3280],\n",
       "         [0.3420],\n",
       "         [0.3560],\n",
       "         [0.3700],\n",
       "         [0.3840],\n",
       "         [0.3980],\n",
       "         [0.4120],\n",
       "         [0.4260]]))"
      ]
     },
     "execution_count": 774,
     "metadata": {},
     "output_type": "execute_result"
    }
   ],
   "source": [
    "X[:10],y[:10]"
   ]
  },
  {
   "cell_type": "code",
   "execution_count": 775,
   "id": "ea9757b9",
   "metadata": {},
   "outputs": [
    {
     "data": {
      "text/plain": [
       "(50, 50)"
      ]
     },
     "execution_count": 775,
     "metadata": {},
     "output_type": "execute_result"
    }
   ],
   "source": [
    "len(X), len(y)"
   ]
  },
  {
   "cell_type": "code",
   "execution_count": 776,
   "id": "8599b8cc",
   "metadata": {},
   "outputs": [],
   "source": [
    "X_train,y_train = (X[:int(0.8 * len(X))], (y[:int(0.8 * len(y))]))\n",
    "X_test,y_test = (X[int(0.8 * len(X)):], (y[int(0.8 * len(y)):]))\n"
   ]
  },
  {
   "cell_type": "code",
   "execution_count": 777,
   "id": "a3d44d2f",
   "metadata": {},
   "outputs": [
    {
     "data": {
      "text/plain": [
       "(40, 40, 10, 10)"
      ]
     },
     "execution_count": 777,
     "metadata": {},
     "output_type": "execute_result"
    }
   ],
   "source": [
    "len(X_train), len(y_train),len(X_test), len(y_test)"
   ]
  },
  {
   "cell_type": "code",
   "execution_count": 778,
   "id": "b45c78cb",
   "metadata": {},
   "outputs": [],
   "source": [
    "def plot_predictions(\n",
    "    x_train=X_train,\n",
    "    y_train = y_train,\n",
    "    x_test = X_test,\n",
    "    y_test =y_test,\n",
    "    prediction = None\n",
    "):\n",
    "    plt.figure(figsize=(10,7))\n",
    "    plt.scatter(x_train,y_train,c=\"g\",s=10,label=\"Training Data\")\n",
    "    # test data\n",
    "    plt.scatter(x_test,y_test,c=\"b\",s=5,label=\"Test Data\")\n",
    "    # plt.scatter(x_train,y_train)\n",
    "    \n",
    "    if prediction is not None:\n",
    "        plt.scatter(x_test,prediction,c=\"y\",s=5,label=\"Prediction Data\")\n",
    "        \n",
    "    plt.legend()\n",
    "    plt.show()"
   ]
  },
  {
   "cell_type": "markdown",
   "id": "74ad320f",
   "metadata": {},
   "source": [
    "## Creating Models\n",
    "\n",
    "To define a neural network in PyTorch, we create a class that inherits from nn.Module. \n",
    "We define the layers of the network in the __init__ function and specify how data will pass through the network in the forward function. \n",
    "\n",
    "#### nn.Module \n",
    "\n",
    "nn.Module is base class for all neural network modules.\n",
    "Your models should also subclass this class.\n"
   ]
  },
  {
   "cell_type": "code",
   "execution_count": 779,
   "id": "43f6d13e",
   "metadata": {},
   "outputs": [],
   "source": [
    "class LinearRegression(nn.Module):\n",
    "    def __init__(self):\n",
    "        super().__init__()\n",
    "        self.weight = nn.Parameter(\n",
    "            torch.randn(1, requires_grad=True, dtype=torch.float)\n",
    "        )\n",
    "        self.bias = nn.Parameter(torch.randn(1, requires_grad=True, dtype=torch.float))\n",
    "\n",
    "    def forward(self, x):\n",
    "        return self.weight * x + self.bias"
   ]
  },
  {
   "cell_type": "code",
   "execution_count": 780,
   "id": "f59a433c",
   "metadata": {},
   "outputs": [
    {
     "name": "stdout",
     "output_type": "stream",
     "text": [
      "Using cpu device\n",
      "LinearRegression()\n"
     ]
    },
    {
     "data": {
      "text/plain": [
       "[Parameter containing:\n",
       " tensor([0.3367], requires_grad=True),\n",
       " Parameter containing:\n",
       " tensor([0.1288], requires_grad=True)]"
      ]
     },
     "execution_count": 780,
     "metadata": {},
     "output_type": "execute_result"
    }
   ],
   "source": [
    "device = \"cuda\" if torch.cuda.is_available() else \"cpu\"\n",
    "# device = torch.accelerator.current_accelerator().type if torch.accelerator.is_available() else \"cpu\"\n",
    "\n",
    "print(f\"Using {device} device\")\n",
    "\n",
    "torch.manual_seed(42)\n",
    "model_0 = LinearRegression().to(device)\n",
    "print(model_0)\n",
    "list(model_0.parameters())"
   ]
  },
  {
   "cell_type": "code",
   "execution_count": 781,
   "id": "cfdfccd1",
   "metadata": {},
   "outputs": [
    {
     "data": {
      "text/plain": [
       "OrderedDict([('weight', tensor([0.3367])), ('bias', tensor([0.1288]))])"
      ]
     },
     "execution_count": 781,
     "metadata": {},
     "output_type": "execute_result"
    }
   ],
   "source": [
    "model_0.state_dict()"
   ]
  },
  {
   "cell_type": "markdown",
   "id": "546c8b77",
   "metadata": {},
   "source": [
    "### Required_Grad \n",
    "Context-manager that disables gradient calculation.\n",
    "\n",
    "Disabling gradient calculation is useful for inference, when you are sure that you will not call Tensor.backward(). \n",
    "\n",
    "It will reduce memory consumption for computations that would otherwise have requires_grad=True.\n",
    "    \n",
    "    >>> x = torch.tensor([1.], requires_grad=True)\n",
    "\n",
    "    >>> with torch.no_grad():\n",
    "    ...     y = x * 2\n",
    "    >>> y.requires_grad\n",
    "    False\n",
    "\n",
    "\n",
    "    >>> @torch.no_grad()\n",
    "    ... def doubler(x):\n",
    "    ...     return x * 2\n",
    "    >>> z = doubler(x)\n",
    "    >>> z.requires_grad\n",
    "    False\n",
    "\n",
    "\n",
    "    >>> @torch.no_grad()\n",
    "    ... def tripler(x):\n",
    "    ...     return x * 3\n",
    "    >>> z = tripler(x)\n",
    "    >>> z.requires_grad\n",
    "    False\n",
    "\n",
    "\n",
    "    >>> # factory function exception\n",
    "    >>> with torch.no_grad():\n",
    "    ...     a = torch.nn.Parameter(torch.rand(10))\n",
    "    >>> a.requires_grad\n",
    "    True"
   ]
  },
  {
   "cell_type": "code",
   "execution_count": 782,
   "id": "424b9983",
   "metadata": {},
   "outputs": [
    {
     "name": "stdout",
     "output_type": "stream",
     "text": [
      "True\n",
      "True\n",
      "False\n"
     ]
    }
   ],
   "source": [
    "x = torch.tensor(4.9,requires_grad=True)\n",
    "print(x.requires_grad)\n",
    "\n",
    "with torch.inference_mode():\n",
    "    y = x+1\n",
    "print(x.requires_grad)\n",
    "print(y.requires_grad)"
   ]
  },
  {
   "cell_type": "code",
   "execution_count": 783,
   "id": "67f011f0",
   "metadata": {},
   "outputs": [
    {
     "data": {
      "image/png": "[encoded data removed]",
      "text/plain": [
       "<Figure size 1000x700 with 1 Axes>"
      ]
     },
     "metadata": {},
     "output_type": "display_data"
    }
   ],
   "source": [
    "# Compute prediction error\n",
    "# we know that we dont need the gradient descent to compute this time so we disable it by using no_grad\n",
    "with torch.inference_mode():\n",
    "    pred = model_0(X_test)\n",
    "    \n",
    "\n",
    "plot_predictions(prediction=pred)\n",
    "\n",
    "\n"
   ]
  },
  {
   "cell_type": "markdown",
   "id": "75601434",
   "metadata": {},
   "source": [
    "## To train a model"
   ]
  },
  {
   "cell_type": "code",
   "execution_count": 784,
   "id": "6a32c185",
   "metadata": {},
   "outputs": [],
   "source": [
    "# Optimizing the Model Paramet ers\n",
    "\n",
    "# to train a model we need a loss function and optimizer\n",
    "# loss function: loss function or cost function is used to measure how wrong our model predict the data\n",
    "# optimizers are used to update the parameters of the model using gradient decenct to make them generalize for the data\n",
    "\n",
    "# loss function\n",
    "loss_fun = nn.L1Loss()\n",
    "\n",
    "# Optimizer  Stochatic Gradient Descent \n",
    "optimizer  = torch.optim.SGD(model_0.parameters(),lr=0.01)\n"
   ]
  },
  {
   "cell_type": "markdown",
   "id": "ae830b9b",
   "metadata": {},
   "source": [
    "In PyTorch, optimizer.zero_grad() is a crucial method used within the training loop of a neural network. Its purpose is to reset the gradients of all parameters that the optimizer is tracking to None. "
   ]
  },
  {
   "cell_type": "markdown",
   "id": "a0233e7a",
   "metadata": {},
   "source": []
  },
  {
   "cell_type": "code",
   "execution_count": 785,
   "id": "493781ae",
   "metadata": {},
   "outputs": [
    {
     "name": "stdout",
     "output_type": "stream",
     "text": [
      "Loss: 0.31288138031959534\n",
      "Epoch: 0 | Loss: 0.31288138031959534 | Test Loss: 0.4480651915073395\n",
      "OrderedDict({'weight': tensor([0.3406]), 'bias': tensor([0.1388])}) \n",
      "\n",
      "\n",
      "Loss: 0.3013603389263153\n",
      "Loss: 0.28983935713768005\n",
      "Loss: 0.2783183455467224\n",
      "Loss: 0.26679736375808716\n",
      "Loss: 0.2552763521671295\n",
      "Loss: 0.24375534057617188\n",
      "Loss: 0.23223432898521423\n",
      "Loss: 0.22071333229541779\n",
      "Loss: 0.20919232070446014\n",
      "Loss: 0.1976713240146637\n",
      "Epoch: 10 | Loss: 0.1976713240146637 | Test Loss: 0.3133552074432373\n",
      "OrderedDict({'weight': tensor([0.3796]), 'bias': tensor([0.2388])}) \n",
      "\n",
      "\n",
      "Loss: 0.18615034222602844\n",
      "Loss: 0.1746293306350708\n",
      "Loss: 0.16310831904411316\n",
      "Loss: 0.1515873372554779\n",
      "Loss: 0.14006635546684265\n",
      "Loss: 0.1285453587770462\n",
      "Loss: 0.11702437698841095\n",
      "Loss: 0.1060912236571312\n",
      "Loss: 0.09681284427642822\n",
      "Loss: 0.08908725529909134\n",
      "Epoch: 20 | Loss: 0.08908725529909134 | Test Loss: 0.18429657816886902\n",
      "OrderedDict({'weight': tensor([0.4184]), 'bias': tensor([0.3333])}) \n",
      "\n",
      "\n",
      "Loss: 0.08227583020925522\n",
      "Loss: 0.07638873159885406\n",
      "Loss: 0.07160007208585739\n",
      "Loss: 0.06747635453939438\n",
      "Loss: 0.06395438313484192\n",
      "Loss: 0.06097004935145378\n",
      "Loss: 0.05845819041132927\n",
      "Loss: 0.05635259300470352\n",
      "Loss: 0.0545857772231102\n",
      "Loss: 0.053148526698350906\n",
      "Epoch: 30 | Loss: 0.053148526698350906 | Test Loss: 0.11164019256830215\n",
      "OrderedDict({'weight': tensor([0.4512]), 'bias': tensor([0.3768])}) \n",
      "\n",
      "\n",
      "Loss: 0.05181945487856865\n",
      "Loss: 0.05069301277399063\n",
      "Loss: 0.0498228520154953\n",
      "Loss: 0.04895269125699997\n",
      "Loss: 0.04819351062178612\n",
      "Loss: 0.047531817108392715\n",
      "Loss: 0.04692792519927025\n",
      "Loss: 0.04642331600189209\n",
      "Loss: 0.04591871052980423\n",
      "Loss: 0.04543796554207802\n",
      "Epoch: 40 | Loss: 0.04543796554207802 | Test Loss: 0.08060953766107559\n",
      "OrderedDict({'weight': tensor([0.4748]), 'bias': tensor([0.3868])}) \n",
      "\n",
      "\n",
      "Loss: 0.04503796249628067\n",
      "Loss: 0.04463795945048332\n",
      "Loss: 0.04423796385526657\n",
      "Loss: 0.04383796453475952\n",
      "Loss: 0.04343796148896217\n",
      "Loss: 0.043074630200862885\n",
      "Loss: 0.04272563382983208\n",
      "Loss: 0.04237663000822067\n",
      "Loss: 0.04202762991189957\n",
      "Loss: 0.04167863354086876\n",
      "Epoch: 50 | Loss: 0.04167863354086876 | Test Loss: 0.06619948148727417\n",
      "OrderedDict({'weight': tensor([0.4938]), 'bias': tensor([0.3843])}) \n",
      "\n",
      "\n",
      "Loss: 0.04132963344454765\n",
      "Loss: 0.04098063334822655\n",
      "Loss: 0.04063162952661514\n",
      "Loss: 0.040282636880874634\n",
      "Loss: 0.039933640509843826\n",
      "Loss: 0.03958464413881302\n",
      "Loss: 0.03923564404249191\n",
      "Loss: 0.03888664394617081\n",
      "Loss: 0.0385376438498497\n",
      "Loss: 0.03818932920694351\n",
      "Epoch: 60 | Loss: 0.03818932920694351 | Test Loss: 0.05586633086204529\n",
      "OrderedDict({'weight': tensor([0.5116]), 'bias': tensor([0.3788])}) \n",
      "\n",
      "\n",
      "Loss: 0.03785243630409241\n",
      "Loss: 0.0375034399330616\n",
      "Loss: 0.037164121866226196\n",
      "Loss: 0.03681822493672371\n",
      "Loss: 0.03647511452436447\n",
      "Loss: 0.03613303601741791\n",
      "Loss: 0.03578609973192215\n",
      "Loss: 0.03544783592224121\n",
      "Loss: 0.035098835825920105\n",
      "Loss: 0.03476089984178543\n",
      "Epoch: 70 | Loss: 0.03476089984178543 | Test Loss: 0.04759376496076584\n",
      "OrderedDict({'weight': tensor([0.5288]), 'bias': tensor([0.3718])}) \n",
      "\n",
      "\n",
      "Loss: 0.03441363573074341\n",
      "Loss: 0.03407188132405281\n",
      "Loss: 0.03372843936085701\n",
      "Loss: 0.03338287025690079\n",
      "Loss: 0.033043231815099716\n",
      "Loss: 0.03269423171877861\n",
      "Loss: 0.032357655465602875\n",
      "Loss: 0.03200903534889221\n",
      "Loss: 0.03166864812374115\n",
      "Loss: 0.03132382780313492\n",
      "Epoch: 80 | Loss: 0.03132382780313492 | Test Loss: 0.03963042423129082\n",
      "OrderedDict({'weight': tensor([0.5459]), 'bias': tensor([0.3648])}) \n",
      "\n",
      "\n",
      "Loss: 0.030979642644524574\n",
      "Loss: 0.030638623982667923\n",
      "Loss: 0.0302906334400177\n",
      "Loss: 0.029953425750136375\n",
      "Loss: 0.02960442565381527\n",
      "Loss: 0.029265418648719788\n",
      "Loss: 0.028919223695993423\n",
      "Loss: 0.028576409444212914\n",
      "Loss: 0.028234025463461876\n",
      "Loss: 0.02788739837706089\n",
      "Epoch: 90 | Loss: 0.02788739837706089 | Test Loss: 0.03325678035616875\n",
      "OrderedDict({'weight': tensor([0.5629]), 'bias': tensor([0.3573])}) \n",
      "\n",
      "\n",
      "Loss: 0.02754882536828518\n",
      "Loss: 0.027199819684028625\n",
      "Loss: 0.026862185448408127\n",
      "Loss: 0.02651461586356163\n",
      "Loss: 0.026173178106546402\n",
      "Loss: 0.025829419493675232\n",
      "Loss: 0.02548416517674923\n",
      "Loss: 0.025144213810563087\n",
      "Loss: 0.02479521557688713\n"
     ]
    }
   ],
   "source": [
    "epochs = 100\n",
    "epochs_count = []\n",
    "train_loss_value = []\n",
    "test_loss_value = []\n",
    "\n",
    "for epoch in range(epochs):\n",
    "    model_0.train() \n",
    "   \n",
    "    # forward pass\n",
    "    y_pred = model_0(X_train)\n",
    "    \n",
    "    # loss/error of model\n",
    "    loss = loss_fun(y_pred, y_train)\n",
    "    print(f\"Loss: {loss}\")\n",
    "     # Backpropagation\n",
    "    loss.backward()\n",
    "    optimizer.step()\n",
    "    \n",
    "    # this is important step\n",
    "    optimizer.zero_grad() \n",
    "     \n",
    "     \n",
    "    #  testing mode\n",
    "    \n",
    "    model_0.eval()\n",
    "    with torch.inference_mode():\n",
    "    # with torch.no_grad()\n",
    "        test_pred = model_0(X_test)\n",
    "        test_loss = loss_fun(test_pred,X_test) \n",
    "        \n",
    "        \n",
    "    if epoch % 10 == 0:\n",
    "        epochs_count.append(epoch)\n",
    "        test_loss_value.append(test_loss)\n",
    "        train_loss_value.append(loss)\n",
    "        \n",
    "        print(f\"Epoch: {epoch} | Loss: {loss} | Test Loss: {test_loss}\")\n",
    "        print(model_0.state_dict(),\"\\n\\n\")\n",
    "    \n",
    "    \n",
    "    \n",
    "    "
   ]
  },
  {
   "cell_type": "code",
   "execution_count": null,
   "id": "362e6822",
   "metadata": {},
   "outputs": [],
   "source": []
  },
  {
   "cell_type": "code",
   "execution_count": 786,
   "id": "43e6c279",
   "metadata": {},
   "outputs": [],
   "source": [
    "with torch.inference_mode():\n",
    "    # with torch.no_grad()\n",
    "    new_pred = model_0(X_test)\n",
    "    # test_loss = loss_fun(new_pred,X_test) \n",
    "        "
   ]
  },
  {
   "cell_type": "code",
   "execution_count": 787,
   "id": "6b879ea7",
   "metadata": {},
   "outputs": [
    {
     "data": {
      "text/plain": [
       "OrderedDict([('weight', tensor([0.5784])), ('bias', tensor([0.3513]))])"
      ]
     },
     "execution_count": 787,
     "metadata": {},
     "output_type": "execute_result"
    }
   ],
   "source": [
    "model_0.state_dict()"
   ]
  },
  {
   "cell_type": "code",
   "execution_count": 788,
   "id": "4423965a",
   "metadata": {},
   "outputs": [
    {
     "data": {
      "image/png": "[encoded data removed]",
      "text/plain": [
       "<Figure size 1000x700 with 1 Axes>"
      ]
     },
     "metadata": {},
     "output_type": "display_data"
    }
   ],
   "source": [
    "plot_predictions(prediction=new_pred)"
   ]
  },
  {
   "cell_type": "code",
   "execution_count": 789,
   "id": "bd78ccd8",
   "metadata": {},
   "outputs": [
    {
     "data": {
      "text/plain": [
       "[tensor(0.4481),\n",
       " tensor(0.3134),\n",
       " tensor(0.1843),\n",
       " tensor(0.1116),\n",
       " tensor(0.0806),\n",
       " tensor(0.0662),\n",
       " tensor(0.0559),\n",
       " tensor(0.0476),\n",
       " tensor(0.0396),\n",
       " tensor(0.0333)]"
      ]
     },
     "execution_count": 789,
     "metadata": {},
     "output_type": "execute_result"
    }
   ],
   "source": [
    "test_loss_value"
   ]
  },
  {
   "cell_type": "code",
   "execution_count": 790,
   "id": "d105dacc",
   "metadata": {},
   "outputs": [
    {
     "data": {
      "text/plain": [
       "<matplotlib.legend.Legend at 0x72cc2e2d6b70>"
      ]
     },
     "execution_count": 790,
     "metadata": {},
     "output_type": "execute_result"
    },
    {
     "data": {
      "image/png": "[encoded data removed]",
      "text/plain": [
       "<Figure size 640x480 with 1 Axes>"
      ]
     },
     "metadata": {},
     "output_type": "display_data"
    }
   ],
   "source": [
    "plt.plot(epochs_count,np.array(test_loss_value) ,label=\"test loss\")\n",
    "plt.plot(epochs_count,torch.tensor(train_loss_value).cpu().numpy() ,label=\"train loss\")\n",
    "plt.xlabel(\"Epoch\")\n",
    "plt.ylabel(\"Loss\")\n",
    "plt.legend()"
   ]
  },
  {
   "cell_type": "markdown",
   "id": "54dc456b",
   "metadata": {},
   "source": [
    "## Saving Models \n",
    "when it come to saving and loading of models, there are three core functions to be familiar with \n",
    "\n",
    "+ `torch.save`\n",
    "+ `torch.load`\n",
    "+ `torch.nn.Module.load_state_dict`\n",
    "\n",
    "<img src=\"./Screenshot from 2025-07-07 13-55-32.png\" height=\"400px\" width=\"700px\"/>"
   ]
  },
  {
   "cell_type": "code",
   "execution_count": 791,
   "id": "f030d960",
   "metadata": {},
   "outputs": [
    {
     "data": {
      "text/plain": [
       "PosixPath('models/linearRegression_model_0.pth')"
      ]
     },
     "execution_count": 791,
     "metadata": {},
     "output_type": "execute_result"
    }
   ],
   "source": [
    "from pathlib import Path\n",
    "model_path = Path('models')\n",
    "model_path.mkdir(parents=True, exist_ok=True)\n",
    "\n",
    "model_name = \"linearRegression_model_0.pth\"\n",
    "model_save_path = model_path / model_name\n",
    "\n",
    "\n",
    "model_save_path"
   ]
  },
  {
   "cell_type": "code",
   "execution_count": null,
   "id": "61698956",
   "metadata": {},
   "outputs": [],
   "source": []
  },
  {
   "cell_type": "code",
   "execution_count": 792,
   "id": "0f75584e",
   "metadata": {},
   "outputs": [
    {
     "name": "stdout",
     "output_type": "stream",
     "text": [
      "Saved Pytorch Model State to models/linearRegression_model_0.pth\n"
     ]
    }
   ],
   "source": [
    "# save \n",
    "torch.save(model_0.state_dict(),model_save_path)\n",
    "print(f\"Saved Pytorch Model State to {model_save_path}\")"
   ]
  },
  {
   "cell_type": "code",
   "execution_count": 793,
   "id": "1cf2fc51",
   "metadata": {},
   "outputs": [
    {
     "data": {
      "text/plain": [
       "<All keys matched successfully>"
      ]
     },
     "execution_count": 793,
     "metadata": {},
     "output_type": "execute_result"
    }
   ],
   "source": [
    "model_0 = LinearRegression().to(device)\n",
    "model_0.load_state_dict(torch.load(model_save_path,weights_only=True))\n"
   ]
  },
  {
   "cell_type": "code",
   "execution_count": 794,
   "id": "37e6dd29",
   "metadata": {},
   "outputs": [],
   "source": [
    "# save entire model \n",
    "# torch.save(model_0,\"model.pth\")\n",
    "# model = torch.load(\"model.pth\", weights_only=False)\n",
    "# model.eval()\n",
    "# with torch.inference_mode():\n",
    "#     load_model_pred = model(X_test)\n",
    "\n"
   ]
  },
  {
   "cell_type": "code",
   "execution_count": 795,
   "id": "0835cc8a",
   "metadata": {},
   "outputs": [],
   "source": [
    "model_0.eval()\n",
    "with torch.inference_mode():\n",
    "    load_model_pred = model_0(X_test)"
   ]
  },
  {
   "cell_type": "code",
   "execution_count": 796,
   "id": "ea731db3",
   "metadata": {},
   "outputs": [
    {
     "data": {
      "image/png": "[encoded data removed]",
      "text/plain": [
       "<Figure size 1000x700 with 1 Axes>"
      ]
     },
     "metadata": {},
     "output_type": "display_data"
    }
   ],
   "source": [
    "plot_predictions(prediction=load_model_pred)"
   ]
  },
  {
   "cell_type": "code",
   "execution_count": 797,
   "id": "df0799c2",
   "metadata": {},
   "outputs": [
    {
     "data": {
      "text/plain": [
       "tensor([[True],\n",
       "        [True],\n",
       "        [True],\n",
       "        [True],\n",
       "        [True],\n",
       "        [True],\n",
       "        [True],\n",
       "        [True],\n",
       "        [True],\n",
       "        [True]])"
      ]
     },
     "execution_count": 797,
     "metadata": {},
     "output_type": "execute_result"
    }
   ],
   "source": [
    "# model prediction before and after loading of save parameters\n",
    "new_pred == load_model_pred "
   ]
  },
  {
   "cell_type": "code",
   "execution_count": null,
   "id": "1a78721d",
   "metadata": {},
   "outputs": [],
   "source": []
  },
  {
   "cell_type": "markdown",
   "id": "4cb74a2c",
   "metadata": {},
   "source": [
    "## Putthing It All Together"
   ]
  },
  {
   "cell_type": "code",
   "execution_count": 798,
   "id": "159f2cd3",
   "metadata": {},
   "outputs": [
    {
     "data": {
      "text/plain": [
       "'2.6.0+cpu'"
      ]
     },
     "execution_count": 798,
     "metadata": {},
     "output_type": "execute_result"
    }
   ],
   "source": [
    "import torch \n",
    "from torch import nn\n",
    "import numpy as np\n",
    "import pandas as pd \n",
    "import matplotlib.pyplot as plt\n",
    "\n",
    "torch.__version__"
   ]
  },
  {
   "cell_type": "code",
   "execution_count": 799,
   "id": "c0d0d5e0",
   "metadata": {},
   "outputs": [],
   "source": [
    "device = \"cuda\" if torch.cuda.is_available() else \"cpu\""
   ]
  },
  {
   "cell_type": "code",
   "execution_count": 800,
   "id": "b0d29136",
   "metadata": {},
   "outputs": [
    {
     "data": {
      "text/plain": [
       "(50, 50)"
      ]
     },
     "execution_count": 800,
     "metadata": {},
     "output_type": "execute_result"
    }
   ],
   "source": [
    "# data creatiion \n",
    "weight = 0.7\n",
    "bias  = 0.3\n",
    "X = torch.arange(0,1,0.02).unsqueeze(dim=1)\n",
    "y = weight * X + bias\n",
    "len(X), len(y)\n",
    "\n"
   ]
  },
  {
   "cell_type": "code",
   "execution_count": 801,
   "id": "563e0791",
   "metadata": {},
   "outputs": [],
   "source": [
    "# splitting of data  80% training and 20% test data\n",
    "from sklearn.model_selection import train_test_split\n",
    "X_train, X_test, y_train, y_test = train_test_split( X, y, test_size=0.2,shuffle=False)"
   ]
  },
  {
   "cell_type": "code",
   "execution_count": 802,
   "id": "51e1951d",
   "metadata": {},
   "outputs": [],
   "source": [
    "def plot_predictions(\n",
    "    x_train=X_train,\n",
    "    y_train = y_train,\n",
    "    x_test = X_test,\n",
    "    y_test =y_test,\n",
    "    prediction = None\n",
    "):\n",
    "    plt.figure(figsize=(10,7))\n",
    "    plt.scatter(x_train,y_train,c=\"g\",s=10,label=\"Training Data\")\n",
    "    # test data\n",
    "    plt.scatter(x_test,y_test,c=\"b\",s=5,label=\"Test Data\")\n",
    "    # plt.scatter(x_train,y_train)\n",
    "    \n",
    "    if prediction is not None:\n",
    "        plt.scatter(x_test,prediction,c=\"red\",s=5,label=\"Prediction Data\")\n",
    "        \n",
    "    plt.legend()\n",
    "    plt.show()"
   ]
  },
  {
   "cell_type": "code",
   "execution_count": 803,
   "id": "d0dc5fd7",
   "metadata": {},
   "outputs": [
    {
     "data": {
      "image/png": "[encoded data removed]",
      "text/plain": [
       "<Figure size 1000x700 with 1 Axes>"
      ]
     },
     "metadata": {},
     "output_type": "display_data"
    }
   ],
   "source": [
    "plot_predictions(X_train,y_train,X_test,y_test)"
   ]
  },
  {
   "cell_type": "markdown",
   "id": "45cae2d6",
   "metadata": {},
   "source": [
    "## Building a Pytorch Linear Model\n",
    "\n",
    "nn.Linear in PyTorch are fully connected layers (also called dense layers), and yes, they are conceptually the same—they apply a linear transformation to the input data:"
   ]
  },
  {
   "cell_type": "code",
   "execution_count": 841,
   "id": "ef47798e",
   "metadata": {},
   "outputs": [],
   "source": [
    "class LinearRegressionModel(nn.Module):\n",
    "    def __init__(self):\n",
    "        super().__init__()\n",
    "        self.linear = nn.Linear(in_features=1,out_features=1)\n",
    "    \n",
    "    def forward(self, x):\n",
    "        x= self.linear(x)\n",
    "        return x"
   ]
  },
  {
   "cell_type": "code",
   "execution_count": 842,
   "id": "ce08c83a",
   "metadata": {},
   "outputs": [
    {
     "data": {
      "text/plain": [
       "OrderedDict([('linear.weight', tensor([[0.7645]])),\n",
       "             ('linear.bias', tensor([0.8300]))])"
      ]
     },
     "execution_count": 842,
     "metadata": {},
     "output_type": "execute_result"
    }
   ],
   "source": [
    "torch.manual_seed(42)\n",
    "model_1 = LinearRegressionModel().to(device)\n",
    "model_1.state_dict()"
   ]
  },
  {
   "cell_type": "code",
   "execution_count": 843,
   "id": "420f00ed",
   "metadata": {},
   "outputs": [
    {
     "data": {
      "text/plain": [
       "device(type='cpu')"
      ]
     },
     "execution_count": 843,
     "metadata": {},
     "output_type": "execute_result"
    }
   ],
   "source": [
    "next(model_1.parameters()).device"
   ]
  },
  {
   "cell_type": "markdown",
   "id": "67541699",
   "metadata": {},
   "source": [
    "### Model Train"
   ]
  },
  {
   "cell_type": "code",
   "execution_count": 844,
   "id": "44af9f1a",
   "metadata": {},
   "outputs": [],
   "source": [
    "# To train a model, we need a loss function and an optimizer.\n",
    "\n",
    "loss_fn = nn.L1Loss()\n",
    "optimizer = torch.optim.SGD(model_1.parameters(),lr=0.01)"
   ]
  },
  {
   "cell_type": "code",
   "execution_count": null,
   "id": "b0f9fabe",
   "metadata": {},
   "outputs": [],
   "source": []
  },
  {
   "cell_type": "code",
   "execution_count": 845,
   "id": "9206cc31",
   "metadata": {},
   "outputs": [
    {
     "name": "stdout",
     "output_type": "stream",
     "text": [
      "loss: 0.5551779866218567\n",
      "loss: 0.5551779866218567 | test_loss: 0.5739762187004089\n",
      "loss: 0.5436569452285767\n",
      "loss: 0.5321359634399414\n",
      "loss: 0.5206149816513062\n",
      "loss: 0.5090939998626709\n",
      "loss: 0.49757298827171326\n",
      "loss: 0.4860519766807556\n",
      "loss: 0.47453099489212036\n",
      "loss: 0.4630100131034851\n",
      "loss: 0.45148906111717224\n",
      "loss: 0.4399680495262146\n",
      "loss: 0.4399680495262146 | test_loss: 0.4392663538455963\n",
      "loss: 0.42844706773757935\n",
      "loss: 0.41692614555358887\n",
      "loss: 0.4054051339626312\n",
      "loss: 0.3938841223716736\n",
      "loss: 0.38236314058303833\n",
      "loss: 0.3708421289920807\n",
      "loss: 0.35932114720344543\n",
      "loss: 0.34780019521713257\n",
      "loss: 0.3362792134284973\n",
      "loss: 0.3247582018375397\n",
      "loss: 0.3247582018375397 | test_loss: 0.30455657839775085\n",
      "loss: 0.31323719024658203\n",
      "loss: 0.3017162084579468\n",
      "loss: 0.2901952564716339\n",
      "loss: 0.27867424488067627\n",
      "loss: 0.2671532928943634\n",
      "loss: 0.2556322515010834\n",
      "loss: 0.24411126971244812\n",
      "loss: 0.23259028792381287\n",
      "loss: 0.2210693061351776\n",
      "loss: 0.20954827964305878\n",
      "loss: 0.20954827964305878 | test_loss: 0.16984674334526062\n",
      "loss: 0.1980273276567459\n",
      "loss: 0.18650636076927185\n",
      "loss: 0.1749853640794754\n",
      "loss: 0.16346436738967896\n",
      "loss: 0.1519433856010437\n",
      "loss: 0.14042240381240845\n",
      "loss: 0.128901407122612\n",
      "loss: 0.11738042533397675\n",
      "loss: 0.1058594360947609\n",
      "loss: 0.09433844685554504\n",
      "loss: 0.09433844685554504 | test_loss: 0.03513689711689949\n",
      "loss: 0.0828174576163292\n",
      "loss: 0.07129647582769394\n",
      "loss: 0.05977548286318779\n",
      "loss: 0.048254501074552536\n",
      "loss: 0.03738182410597801\n",
      "loss: 0.030850563198328018\n",
      "loss: 0.02764223888516426\n",
      "loss: 0.025835607200860977\n",
      "loss: 0.024698307737708092\n",
      "loss: 0.023886386305093765\n",
      "loss: 0.023886386305093765 | test_loss: 0.04784906655550003\n",
      "loss: 0.023356426507234573\n",
      "loss: 0.022868335247039795\n",
      "loss: 0.022455641999840736\n",
      "loss: 0.02206292375922203\n",
      "loss: 0.02171010710299015\n",
      "loss: 0.02135729417204857\n",
      "loss: 0.021004483103752136\n",
      "loss: 0.020651675760746002\n",
      "loss: 0.020298857241868973\n",
      "loss: 0.0199567973613739\n",
      "loss: 0.0199567973613739 | test_loss: 0.04580312222242355\n",
      "loss: 0.019609849900007248\n",
      "loss: 0.019271593540906906\n",
      "loss: 0.0189225971698761\n",
      "loss: 0.01858464628458023\n",
      "loss: 0.018237393349409103\n",
      "loss: 0.017895635217428207\n",
      "loss: 0.01755218580365181\n",
      "loss: 0.017206624150276184\n",
      "loss: 0.016866987571120262\n",
      "loss: 0.016517987474799156\n",
      "loss: 0.016517987474799156 | test_loss: 0.0375305712223053\n",
      "loss: 0.01618141308426857\n",
      "loss: 0.01583278924226761\n",
      "loss: 0.015492400154471397\n",
      "loss: 0.015147586353123188\n",
      "loss: 0.014803391881287098\n",
      "loss: 0.014462386257946491\n",
      "loss: 0.01411437802016735\n",
      "loss: 0.013777181506156921\n",
      "loss: 0.013428186066448689\n",
      "loss: 0.013089170679450035\n",
      "loss: 0.013089170679450035 | test_loss: 0.029944902285933495\n",
      "loss: 0.012742981314659119\n",
      "loss: 0.01240016520023346\n",
      "loss: 0.012057783082127571\n",
      "loss: 0.01171115506440401\n",
      "loss: 0.011372576467692852\n",
      "loss: 0.01102357916533947\n",
      "loss: 0.010685941204428673\n",
      "loss: 0.010338373482227325\n",
      "loss: 0.009996934793889523\n",
      "loss: 0.009653178043663502\n",
      "loss: 0.009653178043663502 | test_loss: 0.02167237363755703\n",
      "loss: 0.0093079237267375\n",
      "loss: 0.008967976085841656\n",
      "loss: 0.008618969470262527\n",
      "loss: 0.008282717317342758\n",
      "loss: 0.00793377123773098\n",
      "loss: 0.007593704853206873\n",
      "loss: 0.007248573936522007\n",
      "loss: 0.0069046891294419765\n",
      "loss: 0.006563370116055012\n"
     ]
    }
   ],
   "source": [
    "epochs = 100\n",
    "\n",
    "for epoch in range(epochs):\n",
    "    # in training mood which is help for dropout and batchNorm Layers etc\n",
    "    model_1.train()\n",
    "    \n",
    "    # forward pass/Compute prediction error\n",
    "    y_pred = model_1(X_train)\n",
    "    loss = loss_fn(y_pred,y_train)\n",
    "    print(f\"loss: {loss}\")\n",
    "    # Backpropagation\n",
    "    loss.backward()\n",
    "    optimizer.step()\n",
    "    optimizer.zero_grad()\n",
    "    \n",
    "    \n",
    "    # testing mode\n",
    "    model_1.eval()\n",
    "    \n",
    "    with torch.inference_mode():\n",
    "        y_test_pred =  model_1(X_test)\n",
    "        test_loss = loss_fn(y_test_pred,y_test)\n",
    "    \n",
    "    \n",
    "    if epoch % 10 == 0:\n",
    "        print(f\"loss: {loss} | test_loss: {test_loss}\")\n",
    "    \n",
    "    \n",
    "    \n",
    "    \n",
    "    \n",
    "    \n",
    "    \n",
    "    \n",
    "    "
   ]
  },
  {
   "cell_type": "code",
   "execution_count": null,
   "id": "44b5b78c",
   "metadata": {},
   "outputs": [],
   "source": [
    "model_1.eval() # we have to turn the model to the eval model for the prediction it deactive the dropout layer and batchNorm layer of the model\n",
    "with torch.inference_mode():\n",
    "    y_new_pred = model_1(X_test)\n",
    "    "
   ]
  },
  {
   "cell_type": "code",
   "execution_count": 847,
   "id": "d305914c",
   "metadata": {},
   "outputs": [
    {
     "data": {
      "image/png": "[encoded data removed]",
      "text/plain": [
       "<Figure size 1000x700 with 1 Axes>"
      ]
     },
     "metadata": {},
     "output_type": "display_data"
    }
   ],
   "source": [
    "plot_predictions(prediction=y_new_pred)"
   ]
  },
  {
   "cell_type": "code",
   "execution_count": 848,
   "id": "25271d56",
   "metadata": {},
   "outputs": [
    {
     "data": {
      "text/plain": [
       "OrderedDict([('linear.weight', tensor([[0.6691]])),\n",
       "             ('linear.bias', tensor([0.3130]))])"
      ]
     },
     "execution_count": 848,
     "metadata": {},
     "output_type": "execute_result"
    }
   ],
   "source": [
    "model_1.state_dict()"
   ]
  },
  {
   "cell_type": "code",
   "execution_count": 849,
   "id": "b2254df6",
   "metadata": {},
   "outputs": [
    {
     "data": {
      "text/plain": [
       "PosixPath('models/model_1_linearregression.pth')"
      ]
     },
     "execution_count": 849,
     "metadata": {},
     "output_type": "execute_result"
    }
   ],
   "source": [
    "# saving of the model \n",
    "model_name = \"model_1_linearregression.pth\"\n",
    "model_save_path = model_path / model_name\n",
    "model_save_path"
   ]
  },
  {
   "cell_type": "code",
   "execution_count": 850,
   "id": "c85d5c6e",
   "metadata": {},
   "outputs": [],
   "source": [
    "torch.save(obj=model_1.state_dict(),f=model_save_path)"
   ]
  },
  {
   "cell_type": "code",
   "execution_count": 863,
   "id": "6947e7b6",
   "metadata": {},
   "outputs": [
    {
     "data": {
      "text/plain": [
       "OrderedDict([('linear.weight', tensor([[0.6691]])),\n",
       "             ('linear.bias', tensor([0.3130]))])"
      ]
     },
     "execution_count": 863,
     "metadata": {},
     "output_type": "execute_result"
    }
   ],
   "source": [
    "# loading of model \n",
    "\n",
    "model_1_loaded = LinearRegressionModel()\n",
    "model_1_loaded.load_state_dict(torch.load(model_save_path,weights_only=True))\n",
    "model_1_loaded.state_dict()"
   ]
  },
  {
   "cell_type": "code",
   "execution_count": 864,
   "id": "58f65edb",
   "metadata": {},
   "outputs": [],
   "source": [
    "model_1_loaded.eval()\n",
    "with torch.inference_mode():\n",
    "    load_y_pred = model_1_loaded(X_test)"
   ]
  },
  {
   "cell_type": "code",
   "execution_count": 865,
   "id": "c28f977a",
   "metadata": {},
   "outputs": [
    {
     "data": {
      "image/png": "[encoded data removed]",
      "text/plain": [
       "<Figure size 1000x700 with 1 Axes>"
      ]
     },
     "metadata": {},
     "output_type": "display_data"
    }
   ],
   "source": [
    "plot_predictions(prediction=load_y_pred)"
   ]
  },
  {
   "cell_type": "code",
   "execution_count": null,
   "id": "8f27d79e",
   "metadata": {},
   "outputs": [],
   "source": []
  }
 ],
 "metadata": {
  "kernelspec": {
   "display_name": "base",
   "language": "python",
   "name": "python3"
  },
  "language_info": {
   "codemirror_mode": {
    "name": "ipython",
    "version": 3
   },
   "file_extension": ".py",
   "mimetype": "text/x-python",
   "name": "python",
   "nbconvert_exporter": "python",
   "pygments_lexer": "ipython3",
   "version": "3.12.4"
  }
 },
 "nbformat": 4,
 "nbformat_minor": 5
}
