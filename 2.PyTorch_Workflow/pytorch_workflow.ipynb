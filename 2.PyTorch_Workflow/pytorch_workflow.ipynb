{
 "cells": [
  {
   "cell_type": "code",
   "execution_count": 1,
   "id": "372c2a0c",
   "metadata": {},
   "outputs": [],
   "source": [
    "import torch\n",
    "from torch import nn\n",
    "import matplotlib.pyplot as plt\n",
    "import numpy as np\n",
    "import pandas as pd"
   ]
  },
  {
   "cell_type": "code",
   "execution_count": 8,
   "id": "b3b2bf42",
   "metadata": {},
   "outputs": [],
   "source": [
    "# linear Regression\n",
    "\n",
    "# y = wx+b\n",
    "weight = 0.7\n",
    "bias = 0.3\n",
    "X = torch.arange(0,1,0.02).unsqueeze(dim=1)\n",
    "y = weight * X + bias"
   ]
  },
  {
   "cell_type": "code",
   "execution_count": 9,
   "id": "b45bcdbe",
   "metadata": {},
   "outputs": [
    {
     "data": {
      "text/plain": [
       "(tensor([[0.0000],\n",
       "         [0.0200],\n",
       "         [0.0400],\n",
       "         [0.0600],\n",
       "         [0.0800],\n",
       "         [0.1000],\n",
       "         [0.1200],\n",
       "         [0.1400],\n",
       "         [0.1600],\n",
       "         [0.1800]]),\n",
       " tensor([[0.3000],\n",
       "         [0.3140],\n",
       "         [0.3280],\n",
       "         [0.3420],\n",
       "         [0.3560],\n",
       "         [0.3700],\n",
       "         [0.3840],\n",
       "         [0.3980],\n",
       "         [0.4120],\n",
       "         [0.4260]]))"
      ]
     },
     "execution_count": 9,
     "metadata": {},
     "output_type": "execute_result"
    }
   ],
   "source": [
    "X[:10],y[:10]"
   ]
  },
  {
   "cell_type": "code",
   "execution_count": 14,
   "id": "ea9757b9",
   "metadata": {},
   "outputs": [
    {
     "data": {
      "text/plain": [
       "(50, 50)"
      ]
     },
     "execution_count": 14,
     "metadata": {},
     "output_type": "execute_result"
    }
   ],
   "source": [
    "len(X), len(y)"
   ]
  },
  {
   "cell_type": "code",
   "execution_count": 38,
   "id": "8599b8cc",
   "metadata": {},
   "outputs": [],
   "source": [
    "X_train,y_train = (X[:int(0.8 * len(X))], (y[:int(0.8 * len(y))]))\n",
    "X_test,y_test = (X[int(0.8 * len(X)):], (y[int(0.8 * len(y)):]))\n"
   ]
  },
  {
   "cell_type": "code",
   "execution_count": 39,
   "id": "a3d44d2f",
   "metadata": {},
   "outputs": [
    {
     "data": {
      "text/plain": [
       "(40, 40, 10, 10)"
      ]
     },
     "execution_count": 39,
     "metadata": {},
     "output_type": "execute_result"
    }
   ],
   "source": [
    "len(X_train), len(y_train),len(X_test), len(y_test)"
   ]
  },
  {
   "cell_type": "code",
   "execution_count": null,
   "id": "b45c78cb",
   "metadata": {},
   "outputs": [],
   "source": [
    "def plot_predictions(\n",
    "    x_train=X_train,\n",
    "    y_train = y_train,\n",
    "    x_test = X_test,\n",
    "    y_test =y_test,\n",
    "    prediction = None\n",
    "):\n",
    "    plt.figure(figsize=(10,7))\n",
    "    plt.scatter(x_train,y_train,c=\"g\",s=10,label=\"Training Data\")\n",
    "    # test data\n",
    "    plt.scatter(x_test,y_test,c=\"b\",s=5,label=\"Test Data\")\n",
    "    # plt.scatter(x_train,y_train)\n",
    "    \n",
    "    if prediction is not None:\n",
    "        plt.scatter(x_test,prediction,c=\"y\",s=5,label=\"Prediction Data\")\n",
    "        \n",
    "    plt.legend()\n",
    "    plt.show()"
   ]
  },
  {
   "cell_type": "code",
   "execution_count": 85,
   "id": "c63c66c3",
   "metadata": {},
   "outputs": [
    {
     "data": {
      "image/png": "[encoded data removed]",
      "text/plain": [
       "<Figure size 1000x700 with 1 Axes>"
      ]
     },
     "metadata": {},
     "output_type": "display_data"
    }
   ],
   "source": [
    "plot_predictions(prediction =y_test* 0.9 )"
   ]
  },
  {
   "cell_type": "code",
   "execution_count": null,
   "id": "8b2ac241",
   "metadata": {},
   "outputs": [],
   "source": []
  },
  {
   "cell_type": "markdown",
   "id": "74ad320f",
   "metadata": {},
   "source": [
    "## Creating Models\n",
    "\n",
    "To define a neural network in PyTorch, we create a class that inherits from nn.Module. \n",
    "We define the layers of the network in the __init__ function and specify how data will pass through the network in the forward function. \n",
    "\n",
    "#### nn.Module \n",
    "\n",
    "nn.Module is base class for all neural network modules.\n",
    "Your models should also subclass this class.\n"
   ]
  },
  {
   "cell_type": "code",
   "execution_count": 154,
   "id": "43f6d13e",
   "metadata": {},
   "outputs": [],
   "source": [
    "class LinearRegression(nn.Module):\n",
    "    def __init__(self):\n",
    "        super().__init__()\n",
    "        self.weight = nn.Parameter(\n",
    "            torch.randn(1, requires_grad=True, dtype=torch.float)\n",
    "        )\n",
    "        self.bias = nn.Parameter(\n",
    "            torch.randn(1, requires_grad=True, dtype=torch.float)\n",
    "        )\n",
    "    def forward(self,x):\n",
    "        return self.weight * x + self.bias\n",
    "        "
   ]
  },
  {
   "cell_type": "code",
   "execution_count": 277,
   "id": "f59a433c",
   "metadata": {},
   "outputs": [
    {
     "name": "stdout",
     "output_type": "stream",
     "text": [
      "Using cpu device\n",
      "LinearRegression()\n"
     ]
    },
    {
     "data": {
      "text/plain": [
       "[Parameter containing:\n",
       " tensor([0.3367], requires_grad=True),\n",
       " Parameter containing:\n",
       " tensor([0.1288], requires_grad=True)]"
      ]
     },
     "execution_count": 277,
     "metadata": {},
     "output_type": "execute_result"
    }
   ],
   "source": [
    "device = \"cuda\" if torch.cuda.is_available() else \"cpu\"\n",
    "# device = torch.accelerator.current_accelerator().type if torch.accelerator.is_available() else \"cpu\"\n",
    "\n",
    "print(f\"Using {device} device\")\n",
    "\n",
    "torch.manual_seed(42)\n",
    "model_0 = LinearRegression().to(device)\n",
    "print(model_0)\n",
    "list(model_0.parameters())"
   ]
  },
  {
   "cell_type": "code",
   "execution_count": 164,
   "id": "cfdfccd1",
   "metadata": {},
   "outputs": [
    {
     "data": {
      "text/plain": [
       "OrderedDict([('weight', tensor([0.3367])), ('bias', tensor([0.1288]))])"
      ]
     },
     "execution_count": 164,
     "metadata": {},
     "output_type": "execute_result"
    }
   ],
   "source": [
    "model_0.state_dict()"
   ]
  },
  {
   "cell_type": "markdown",
   "id": "546c8b77",
   "metadata": {},
   "source": [
    "### Required_Grad \n",
    "Context-manager that disables gradient calculation.\n",
    "\n",
    "Disabling gradient calculation is useful for inference, when you are sure that you will not call Tensor.backward(). \n",
    "\n",
    "It will reduce memory consumption for computations that would otherwise have requires_grad=True.\n",
    "    \n",
    "    >>> x = torch.tensor([1.], requires_grad=True)\n",
    "\n",
    "    >>> with torch.no_grad():\n",
    "    ...     y = x * 2\n",
    "    >>> y.requires_grad\n",
    "    False\n",
    "\n",
    "\n",
    "    >>> @torch.no_grad()\n",
    "    ... def doubler(x):\n",
    "    ...     return x * 2\n",
    "    >>> z = doubler(x)\n",
    "    >>> z.requires_grad\n",
    "    False\n",
    "\n",
    "\n",
    "    >>> @torch.no_grad()\n",
    "    ... def tripler(x):\n",
    "    ...     return x * 3\n",
    "    >>> z = tripler(x)\n",
    "    >>> z.requires_grad\n",
    "    False\n",
    "\n",
    "\n",
    "    >>> # factory function exception\n",
    "    >>> with torch.no_grad():\n",
    "    ...     a = torch.nn.Parameter(torch.rand(10))\n",
    "    >>> a.requires_grad\n",
    "    True"
   ]
  },
  {
   "cell_type": "code",
   "execution_count": 338,
   "id": "424b9983",
   "metadata": {},
   "outputs": [
    {
     "name": "stdout",
     "output_type": "stream",
     "text": [
      "True\n",
      "True\n",
      "False\n"
     ]
    }
   ],
   "source": [
    "x = torch.tensor(4.9,requires_grad=True)\n",
    "print(x.requires_grad)\n",
    "\n",
    "with torch.inference_mode():\n",
    "    y = x+1\n",
    "print(x.requires_grad)\n",
    "print(y.requires_grad)"
   ]
  },
  {
   "cell_type": "code",
   "execution_count": null,
   "id": "67f011f0",
   "metadata": {},
   "outputs": [
    {
     "data": {
      "text/plain": [
       "tensor(0.4945)"
      ]
     },
     "execution_count": 346,
     "metadata": {},
     "output_type": "execute_result"
    }
   ],
   "source": [
    "# Compute prediction error\n",
    "# we know that we dont need the gradient descent to compute this time so we disable it by using no_grad\n",
    "with torch.no_grad():\n",
    "    pred = model_0(X_test)\n",
    "    \n",
    "pred\n",
    "# mean absolute error aslo know as l1loss in torch\n",
    "nn.L1Loss()(pred,y_test)\n"
   ]
  },
  {
   "cell_type": "code",
   "execution_count": null,
   "id": "6a32c185",
   "metadata": {},
   "outputs": [],
   "source": [
    "# Optimizing the Model Paramet ers\n",
    "\n",
    "# to train a model we need a loss function and optimizer\n",
    "# loss function: loss function or cost function is used to measure how wrong our model predict the data\n",
    "# optimizers are used to update the parameters of the model using gradient decenct to make them generalize for the data\n",
    "\n",
    "loss_fun = nn.L1Loss()\n",
    "# output = loss_fn(input, target)\n"
   ]
  },
  {
   "cell_type": "code",
   "execution_count": null,
   "id": "493781ae",
   "metadata": {},
   "outputs": [],
   "source": [
    "with torch.no"
   ]
  }
 ],
 "metadata": {
  "kernelspec": {
   "display_name": "base",
   "language": "python",
   "name": "python3"
  },
  "language_info": {
   "codemirror_mode": {
    "name": "ipython",
    "version": 3
   },
   "file_extension": ".py",
   "mimetype": "text/x-python",
   "name": "python",
   "nbconvert_exporter": "python",
   "pygments_lexer": "ipython3",
   "version": "3.12.4"
  }
 },
 "nbformat": 4,
 "nbformat_minor": 5
}
